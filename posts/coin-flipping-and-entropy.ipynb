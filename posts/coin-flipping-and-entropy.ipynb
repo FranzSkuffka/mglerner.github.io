{
 "cells": [
  {
   "cell_type": "markdown",
   "metadata": {},
   "source": [
    "You can download this whole post as a Jupyter notebook [here](/posts/coin-flipping-and-entropy.ipynb)\n",
    "# Some useful interactive bits for coin flipping and entropy.\n",
    "\n",
    "I made this post for my 1st semester intro physics class, as a lead in to the standard discussion of entropy (sue me, I can't make myself dive into this without starting from stat mech).\n",
    "\n",
    "## Say you're going to flip 4 coins. What's the most likely outcome? How likely is it?\n",
    "\n",
    "How should we keep track of outcomes? One easy way is to ask \"how many heads did we get?\"\n",
    "\n",
    "<!-- TEASER_END -->\n",
    "\n",
    "Well, intuitively, we'd all say you're most likely to get two heads and two tails. Let's check. If it's a fair coin, we can assume that we're equally likely to get a head or a tail on each flip. So, we flip the first coin, and make a table:\n",
    "\n",
    "| 1 |\n",
    "|---|\n",
    "| H |\n",
    "| T |\n",
    "\n",
    "Great. Two outcomes, equally likely. One head 50% of the time, zero heads 50% of the time. What if we flip a second coin (students should work all of this out on their own, but hey, I'm just a blog post). If the first was heads, the second could be either heads or tails. Ditto for the second.\n",
    "\n",
    "| 1 | 2 | |How many heads? |\n",
    "|---|---|-|----------------|\n",
    "| **H** | **H** | |2 |\n",
    "|  H | **T** | |1 |\n",
    "| **T** | **H** | |1 |\n",
    "|  T | **T** | |0 |\n",
    "\n",
    "This time, it's a bit more interesting. We had three possible outcomes. We got two heads once, one head twice, and zero heads once. So, our most likely outcome is half heads, but not by a huge amount.\n",
    "\n",
    "If we add a third coin, and then a fourth coin, we get (again, students should work it all out)\n",
    "\n",
    "| 1     | 2     | 3     | 4     | | How many heads? |\n",
    "|-------|-------|-------|-------|-|-|\n",
    "| **H** | **H** | **H** | **H** | | 4|\n",
    "| H     | H     | H     | **T**     | | 3|\n",
    "| H     | H     | **T** | **H**     | | 3|\n",
    "| H     | H     | T     | **T**     | | 2|\n",
    "| H     | **T**     | **H**     | **H**     | | 3|\n",
    "| H     | T     | H     | **T**     | | 2|\n",
    "| H     | T     | **T**     | **H**     | |2 |\n",
    "| H     | T     | T     | **T**     | | 1|\n",
    "| **T** | **H** | **H** | **H** | | 3|\n",
    "| T     | H     | H     | **T**     | | 2|\n",
    "| T     | H     | **T** | **H**     | | 2|\n",
    "| T     | H     | T     | **T**     | | 1|\n",
    "| T     | **T**     | **H**     | **H**     | | 2|\n",
    "| T     | T     | H     | **T**     | | 1|\n",
    "| T     | T     | **T**     | **H**     | | 1|\n",
    "| T     | T     | T     | **T**     | | 0|\n",
    "\n",
    "And if we tabulate that, we have 16 possible outcomes. We get 4 heads 1/16 of the time, 3 heads 4/16 of the time, 2 heads 6/16 of the time, 1 head 4/16 of the time, and 0 heads 1/16 of the time.\n",
    "\n",
    "We can visualize that with a histogram."
   ]
  },
  {
   "cell_type": "code",
   "execution_count": null,
   "metadata": {},
   "outputs": [],
   "source": [
    "import numpy as np, seaborn as sns, itertools, pandas as pd, scipy as sp\n",
    "from matplotlib import pyplot as plt\n",
    "from IPython.display import HTML\n",
    "from ipywidgets import interact, interactive, fixed\n",
    "%matplotlib inline"
   ]
  },
  {
   "cell_type": "code",
   "execution_count": null,
   "metadata": {},
   "outputs": [],
   "source": [
    "heads = pd.Series(np.array([4,3,3,2,3,2,2,1,3,2,2,1,2,1,1,0]),name='Number of heads')\n",
    "sns.distplot(heads,kde=False,bins=5);"
   ]
  },
  {
   "cell_type": "markdown",
   "metadata": {},
   "source": [
    "## Phrasing it with statistical mechanics\n",
    "\n",
    "The fundamental postulate of statistical mechanics says that each of these different ways of flipping coins (HHHH, HHTH, HHHT, etc.) is equally likely. That makes intuitive sense here: each individual coin flip was equally likely. But, we can use that to figure out probabilities. We actually did that for the \"flip three coins\" example above. Here, we say that there were 4 heads in 1/16 of the flips, so we have a 1/16 = 6.25% chance of getting one head. Here's the same thing, plotted with probabilities instead of \"number of times this happened\":"
   ]
  },
  {
   "cell_type": "code",
   "execution_count": null,
   "metadata": {},
   "outputs": [],
   "source": [
    "sns.distplot(heads,kde=False,bins=5,norm_hist=True);"
   ]
  },
  {
   "cell_type": "markdown",
   "metadata": {},
   "source": [
    "So, that's cool. We now know how likely it is that we're going to get any given number of heads. For four coin flips, our intuition was probably right: more likely to get two heads. But not *that much* more likely. \n",
    "\n",
    "## Flipping more coins\n",
    "\n",
    "If we want to flip more coins, it's going to be a pain in the neck to make that table over and over. Luckily, this is bundled up in a math/probability/stats concept called \"combinations\". Remember how, when we flipped four coins, we had four ways to get one head?"
   ]
  },
  {
   "cell_type": "code",
   "execution_count": null,
   "metadata": {},
   "outputs": [],
   "source": [
    "sp.special.comb(4,1)"
   ]
  },
  {
   "cell_type": "markdown",
   "metadata": {},
   "source": [
    "And how there were six ways to get two heads?"
   ]
  },
  {
   "cell_type": "code",
   "execution_count": null,
   "metadata": {},
   "outputs": [],
   "source": [
    "sp.special.comb(4,2)"
   ]
  },
  {
   "cell_type": "markdown",
   "metadata": {},
   "source": [
    "We can get a list of all of those:"
   ]
  },
  {
   "cell_type": "code",
   "execution_count": null,
   "metadata": {},
   "outputs": [],
   "source": [
    "[sp.special.comb(4,i) for i in range(5)]"
   ]
  },
  {
   "cell_type": "markdown",
   "metadata": {},
   "source": [
    "And we can wrap that whole thing up into an interactive plot"
   ]
  },
  {
   "cell_type": "code",
   "execution_count": null,
   "metadata": {},
   "outputs": [],
   "source": [
    "def plotflips(num_coins=4):\n",
    "    flips_with_heads = [sp.special.comb(num_coins,i) for i in range(num_coins+1)]\n",
    "    flips_with_heads = np.array(flips_with_heads)\n",
    "    plt.bar(range(num_coins+1),flips_with_heads/flips_with_heads.sum())\n",
    "    plt.show()\n",
    "    \n",
    "interact(plotflips,num_coins=list(range(1,100)) + list(range(100,200,10)) + list(range(200,1001,100)));"
   ]
  },
  {
   "cell_type": "markdown",
   "metadata": {},
   "source": [
    "## Back to some physics\n",
    "\n",
    "How does this all connect to entropy? People usually say that \"entropy\" means things \"want to be more disordered\" ... let's use that to think about the air molecules in the room. If air molecules can be randomly located anywhere in a room, why don't you ever have to worry about walking into a room and finding all of them on the other side? If that happened, you'd asphyxiate right away!\n",
    "\n",
    "Well, in terms of entropy, stuffing them all on one side would certainly be a more ordered state. What can our coins tell us about that? A really simple model would be to say \"heads\" means a molecule is on the left side of the room, \"tails\" means it's on the right. Then, flipping 0 heads would mean you asphyxiate. Look at the above interactive plot, and notice that even with 1000 \"molecules\" the probability of having things spread out evenly is WAY bigger than the alternative. Think about avogadro's number."
   ]
  }
 ],
 "metadata": {
  "kernelspec": {
   "display_name": "Python 3",
   "language": "python",
   "name": "python3"
  },
  "language_info": {
   "codemirror_mode": {
    "name": "ipython",
    "version": 3
   },
   "file_extension": ".py",
   "mimetype": "text/x-python",
   "name": "python",
   "nbconvert_exporter": "python",
   "pygments_lexer": "ipython3",
   "version": "3.6.1"
  },
  "nikola": {
   "category": "",
   "date": "2017-11-16 17:35:56 UTC",
   "description": "",
   "link": "",
   "slug": "coin-flipping-and-entropy",
   "tags": "",
   "title": "Coin Flipping and Entropy",
   "type": "text"
  },
  "widgets": {
   "application/vnd.jupyter.widget-state+json": {
    "state": {
     "01089a69464e432cb2cc225fceb1a07a": {
      "model_module": "jupyter-js-widgets",
      "model_module_version": "~2.1.4",
      "model_name": "VBoxModel",
      "state": {
       "_dom_classes": [
        "widget-interact"
       ],
       "_model_module_version": "~2.1.4",
       "_view_module_version": "~2.1.4",
       "children": [
        "IPY_MODEL_90292d0a7030458a9fb21647f3be060d",
        "IPY_MODEL_c7b7d0423f104273bededed91544ff2d"
       ],
       "layout": "IPY_MODEL_0327d9b89f66479b988166427da6ebca"
      }
     },
     "0142a63042e24de1949e7e80c8414aa6": {
      "model_module": "jupyter-js-widgets",
      "model_module_version": "~2.1.4",
      "model_name": "VBoxModel",
      "state": {
       "_dom_classes": [
        "widget-interact"
       ],
       "_model_module_version": "~2.1.4",
       "_view_module_version": "~2.1.4",
       "children": [
        "IPY_MODEL_d493a3d1207f48fbb214b263008b5a10",
        "IPY_MODEL_3b398ce97f9b45d59b9d599347928e65"
       ],
       "layout": "IPY_MODEL_499f4f1b59c44fcd93480dea549dd812"
      }
     },
     "0193dcb5c4e741dea1e6d4d0f9326b5f": {
      "model_module": "jupyter-js-widgets",
      "model_module_version": "~2.1.4",
      "model_name": "SliderStyleModel",
      "state": {
       "_model_module_version": "~2.1.4",
       "_view_module_version": "~2.1.4"
      }
     },
     "02211e538e814908b49016599a49bd58": {
      "model_module": "jupyter-js-widgets",
      "model_module_version": "~2.1.4",
      "model_name": "IntSliderModel",
      "state": {
       "_model_module_version": "~2.1.4",
       "_view_module_version": "~2.1.4",
       "description": "num_coins",
       "layout": "IPY_MODEL_3cbb9290bbc94b4396bb188ec9896166",
       "style": "IPY_MODEL_5945b56ffeb1495f979b84a9e6153297",
       "value": 13
      }
     },
     "0273a415edf747aead5293f70376cb41": {
      "model_module": "jupyter-js-widgets",
      "model_module_version": "~2.1.4",
      "model_name": "OutputModel",
      "state": {
       "_dom_classes": [],
       "_model_module": "jupyter-js-widgets",
       "_model_module_version": "~2.1.4",
       "_view_module": "jupyter-js-widgets",
       "_view_module_version": "~2.1.4",
       "layout": "IPY_MODEL_1d804f0850124374b1d66fad61d7a705",
       "msg_throttle": 1
      }
     },
     "02a81b6aedf34c80b68ddf51e970ae6e": {
      "model_module": "jupyter-js-widgets",
      "model_module_version": "~2.1.4",
      "model_name": "OutputModel",
      "state": {
       "_dom_classes": [],
       "_model_module": "jupyter-js-widgets",
       "_model_module_version": "~2.1.4",
       "_view_module": "jupyter-js-widgets",
       "_view_module_version": "~2.1.4",
       "layout": "IPY_MODEL_fdb705b14faa4255b91bbbc54bbf25e6",
       "msg_throttle": 1
      }
     },
     "0327d9b89f66479b988166427da6ebca": {
      "model_module": "jupyter-js-widgets",
      "model_module_version": "~2.1.4",
      "model_name": "LayoutModel",
      "state": {
       "_model_module_version": "~2.1.4",
       "_view_module_version": "~2.1.4"
      }
     },
     "047de86663d4434dab99382f82b2493a": {
      "model_module": "jupyter-js-widgets",
      "model_module_version": "~2.1.4",
      "model_name": "LayoutModel",
      "state": {
       "_model_module_version": "~2.1.4",
       "_view_module_version": "~2.1.4"
      }
     },
     "0610df1312624c008e83aa826228639e": {
      "model_module": "jupyter-js-widgets",
      "model_module_version": "~2.1.4",
      "model_name": "LayoutModel",
      "state": {
       "_model_module_version": "~2.1.4",
       "_view_module_version": "~2.1.4"
      }
     },
     "0642e26f22294312891b26a66743bd42": {
      "model_module": "jupyter-js-widgets",
      "model_module_version": "~2.1.4",
      "model_name": "OutputModel",
      "state": {
       "_dom_classes": [],
       "_model_module": "jupyter-js-widgets",
       "_model_module_version": "~2.1.4",
       "_view_module": "jupyter-js-widgets",
       "_view_module_version": "~2.1.4",
       "layout": "IPY_MODEL_e4cb75568c6946a5aefc345875850b2b",
       "msg_throttle": 1
      }
     },
     "06fec75f0e6e4b32bafe3591407842f6": {
      "model_module": "jupyter-js-widgets",
      "model_module_version": "~2.1.4",
      "model_name": "SliderStyleModel",
      "state": {
       "_model_module_version": "~2.1.4",
       "_view_module_version": "~2.1.4"
      }
     },
     "0a6eb7cd1f7c4a7bba9307b5f381d19e": {
      "model_module": "jupyter-js-widgets",
      "model_module_version": "~2.1.4",
      "model_name": "IntSliderModel",
      "state": {
       "_model_module_version": "~2.1.4",
       "_view_module_version": "~2.1.4",
       "description": "num_coins",
       "layout": "IPY_MODEL_9d402ef0cb6d4d44b6ef6b63a9505c28",
       "style": "IPY_MODEL_f3572046e8854ed88db867aa778a5e98",
       "value": 4
      }
     },
     "0afb8c1f680b4d4389bf05da1246e04d": {
      "model_module": "jupyter-js-widgets",
      "model_module_version": "~2.1.4",
      "model_name": "LayoutModel",
      "state": {
       "_model_module_version": "~2.1.4",
       "_view_module_version": "~2.1.4"
      }
     },
     "0d8122b802314415813d8582676afd91": {
      "model_module": "jupyter-js-widgets",
      "model_module_version": "~2.1.4",
      "model_name": "SliderStyleModel",
      "state": {
       "_model_module_version": "~2.1.4",
       "_view_module_version": "~2.1.4"
      }
     },
     "0e699a8030c142adaf33c48ee23bb1b3": {
      "model_module": "jupyter-js-widgets",
      "model_module_version": "~2.1.4",
      "model_name": "LayoutModel",
      "state": {
       "_model_module_version": "~2.1.4",
       "_view_module_version": "~2.1.4"
      }
     },
     "0ed1ff952f754597b3d372a105c27758": {
      "model_module": "jupyter-js-widgets",
      "model_module_version": "~2.1.4",
      "model_name": "FloatSliderModel",
      "state": {
       "_model_module_version": "~2.1.4",
       "_view_module_version": "~2.1.4",
       "description": "f",
       "layout": "IPY_MODEL_aa67c950cf664bf992e9fbdbfd727753",
       "max": 10,
       "min": 1,
       "step": 0.1,
       "value": 5
      }
     },
     "0f306be9af644e04ad13a0f92f76419f": {
      "model_module": "jupyter-js-widgets",
      "model_module_version": "~2.1.4",
      "model_name": "LayoutModel",
      "state": {
       "_model_module_version": "~2.1.4",
       "_view_module_version": "~2.1.4"
      }
     },
     "0f94f34ef5094372b08ae62cd5176967": {
      "model_module": "jupyter-js-widgets",
      "model_module_version": "~2.1.4",
      "model_name": "LayoutModel",
      "state": {
       "_model_module_version": "~2.1.4",
       "_view_module_version": "~2.1.4"
      }
     },
     "117f96f7fb344d7c9101dda2e90c1b38": {
      "model_module": "jupyter-js-widgets",
      "model_module_version": "~2.1.4",
      "model_name": "IntSliderModel",
      "state": {
       "_model_module_version": "~2.1.4",
       "_view_module_version": "~2.1.4",
       "description": "num_coins",
       "layout": "IPY_MODEL_64d50be13b2e461aaae43895365e6d80",
       "style": "IPY_MODEL_bdd6497bbb1f48aa8c22555a8cecdced"
      }
     },
     "119938c8091b44a7acfc15900a1fd3ea": {
      "model_module": "jupyter-js-widgets",
      "model_module_version": "~2.1.4",
      "model_name": "LayoutModel",
      "state": {
       "_model_module_version": "~2.1.4",
       "_view_module_version": "~2.1.4"
      }
     },
     "12cc289587374ae3aae58a895d187f71": {
      "model_module": "jupyter-js-widgets",
      "model_module_version": "~2.1.4",
      "model_name": "SliderStyleModel",
      "state": {
       "_model_module_version": "~2.1.4",
       "_view_module_version": "~2.1.4"
      }
     },
     "136956a2a5414af1aab429bf004771bd": {
      "model_module": "jupyter-js-widgets",
      "model_module_version": "~2.1.4",
      "model_name": "SliderStyleModel",
      "state": {
       "_model_module_version": "~2.1.4",
       "_view_module_version": "~2.1.4"
      }
     },
     "13ea6b8d5c19405998b013a3d4d6ee5c": {
      "model_module": "jupyter-js-widgets",
      "model_module_version": "~2.1.4",
      "model_name": "LayoutModel",
      "state": {
       "_model_module_version": "~2.1.4",
       "_view_module_version": "~2.1.4"
      }
     },
     "147a2620f2b64b6ca26a9967a376886d": {
      "model_module": "jupyter-js-widgets",
      "model_module_version": "~2.1.4",
      "model_name": "LayoutModel",
      "state": {
       "_model_module_version": "~2.1.4",
       "_view_module_version": "~2.1.4"
      }
     },
     "14ae6c1b0f474f07956a860550c0308e": {
      "model_module": "jupyter-js-widgets",
      "model_module_version": "~2.1.4",
      "model_name": "LayoutModel",
      "state": {
       "_model_module_version": "~2.1.4",
       "_view_module_version": "~2.1.4"
      }
     },
     "15b6c97020874597b5399315823e0a20": {
      "model_module": "jupyter-js-widgets",
      "model_module_version": "~2.1.4",
      "model_name": "LayoutModel",
      "state": {
       "_model_module_version": "~2.1.4",
       "_view_module_version": "~2.1.4"
      }
     },
     "15fd6a23ca4e41c28763e9dc7db5ad8e": {
      "model_module": "jupyter-js-widgets",
      "model_module_version": "~2.1.4",
      "model_name": "IntSliderModel",
      "state": {
       "_model_module_version": "~2.1.4",
       "_view_module_version": "~2.1.4",
       "description": "num_coins",
       "layout": "IPY_MODEL_b89bc5cf51034cadacde0b4b0dcf0587",
       "max": 1000,
       "min": 1,
       "style": "IPY_MODEL_2f11b17782cb414b931a9b599c772e0e",
       "value": 918
      }
     },
     "17586483f8ae403fb676a499d4bf6df6": {
      "model_module": "jupyter-js-widgets",
      "model_module_version": "~2.1.4",
      "model_name": "VBoxModel",
      "state": {
       "_dom_classes": [
        "widget-interact"
       ],
       "_model_module_version": "~2.1.4",
       "_view_module_version": "~2.1.4",
       "children": [
        "IPY_MODEL_0ed1ff952f754597b3d372a105c27758",
        "IPY_MODEL_02a81b6aedf34c80b68ddf51e970ae6e"
       ],
       "layout": "IPY_MODEL_5c01f154c6a241309a1d25b3839f0add"
      }
     },
     "17f3c5a2b8a24319950717e50ab529ce": {
      "model_module": "jupyter-js-widgets",
      "model_module_version": "~2.1.4",
      "model_name": "OutputModel",
      "state": {
       "_dom_classes": [],
       "_model_module": "jupyter-js-widgets",
       "_model_module_version": "~2.1.4",
       "_view_module": "jupyter-js-widgets",
       "_view_module_version": "~2.1.4",
       "layout": "IPY_MODEL_83cbae5d17634d87bbff49531d78b353",
       "msg_throttle": 1
      }
     },
     "190ed23ea9dc4faf992a9fd30cd83396": {
      "model_module": "jupyter-js-widgets",
      "model_module_version": "~2.1.4",
      "model_name": "FloatSliderModel",
      "state": {
       "_model_module_version": "~2.1.4",
       "_view_module_version": "~2.1.4",
       "description": "f",
       "layout": "IPY_MODEL_73559842b22048fd810bcf3eea3c17b6",
       "max": 10,
       "min": 1,
       "step": 0.1,
       "value": 4.9
      }
     },
     "1983105baefb4901a9a3bbfa48955cad": {
      "model_module": "jupyter-js-widgets",
      "model_module_version": "~2.1.4",
      "model_name": "VBoxModel",
      "state": {
       "_dom_classes": [
        "widget-interact"
       ],
       "_model_module_version": "~2.1.4",
       "_view_module_version": "~2.1.4",
       "children": [
        "IPY_MODEL_47e6805373794b32993514f5b6eaeaab",
        "IPY_MODEL_272861af2d5a4a67bdbf9137ddf011e5"
       ],
       "layout": "IPY_MODEL_988a0fb9e891482bbb6a1fe60b8faba1"
      }
     },
     "1a4891c403c64ff1b800ff6e3eead325": {
      "model_module": "jupyter-js-widgets",
      "model_module_version": "~2.1.4",
      "model_name": "LayoutModel",
      "state": {
       "_model_module_version": "~2.1.4",
       "_view_module_version": "~2.1.4"
      }
     },
     "1a6a47bf3a7044b7b00f5d0094f5c9c3": {
      "model_module": "jupyter-js-widgets",
      "model_module_version": "~2.1.4",
      "model_name": "IntSliderModel",
      "state": {
       "_model_module_version": "~2.1.4",
       "_view_module_version": "~2.1.4",
       "description": "num_coins",
       "layout": "IPY_MODEL_e25650ff60024145a0adf3f9456a839d",
       "style": "IPY_MODEL_a7eabd30291447b199bd55adeaefa3ac",
       "value": 4
      }
     },
     "1b551454b7c44f67a7b3c19a74bcbe1f": {
      "model_module": "jupyter-js-widgets",
      "model_module_version": "~2.1.4",
      "model_name": "LayoutModel",
      "state": {
       "_model_module_version": "~2.1.4",
       "_view_module_version": "~2.1.4"
      }
     },
     "1b9ee3274bf04ad9b07e7f4e4b902f9e": {
      "model_module": "jupyter-js-widgets",
      "model_module_version": "~2.1.4",
      "model_name": "VBoxModel",
      "state": {
       "_dom_classes": [
        "widget-interact"
       ],
       "_model_module_version": "~2.1.4",
       "_view_module_version": "~2.1.4",
       "children": [
        "IPY_MODEL_8ce7e20c3fe24620bf3423109c095d27",
        "IPY_MODEL_f047ea75133a4507873211eb89e15eca"
       ],
       "layout": "IPY_MODEL_7c4c2f642fc54dd7801ec3b1b64ddafc"
      }
     },
     "1c2a1b997a194ed2ad9e465ea331571a": {
      "model_module": "jupyter-js-widgets",
      "model_module_version": "~2.1.4",
      "model_name": "SliderStyleModel",
      "state": {
       "_model_module_version": "~2.1.4",
       "_view_module_version": "~2.1.4"
      }
     },
     "1d804f0850124374b1d66fad61d7a705": {
      "model_module": "jupyter-js-widgets",
      "model_module_version": "~2.1.4",
      "model_name": "LayoutModel",
      "state": {
       "_model_module_version": "~2.1.4",
       "_view_module_version": "~2.1.4"
      }
     },
     "1e598ecff53b43d4985d0ffcf9f13b0c": {
      "model_module": "jupyter-js-widgets",
      "model_module_version": "~2.1.4",
      "model_name": "VBoxModel",
      "state": {
       "_dom_classes": [
        "widget-interact"
       ],
       "_model_module_version": "~2.1.4",
       "_view_module_version": "~2.1.4",
       "children": [
        "IPY_MODEL_eb712946bd104be18f2fb01c858794a9",
        "IPY_MODEL_83cbe8181a42459b92fd592fa678af3d"
       ],
       "layout": "IPY_MODEL_bd25bfcb05f94b6eab4070a71d84cb46"
      }
     },
     "1e652d426bb242c28fa74277c6b8d875": {
      "model_module": "jupyter-js-widgets",
      "model_module_version": "~2.1.4",
      "model_name": "SliderStyleModel",
      "state": {
       "_model_module_version": "~2.1.4",
       "_view_module_version": "~2.1.4"
      }
     },
     "1fea83fbbec9410486ae40e5ff694512": {
      "model_module": "jupyter-js-widgets",
      "model_module_version": "~2.1.4",
      "model_name": "OutputModel",
      "state": {
       "_dom_classes": [],
       "_model_module": "jupyter-js-widgets",
       "_model_module_version": "~2.1.4",
       "_view_module": "jupyter-js-widgets",
       "_view_module_version": "~2.1.4",
       "layout": "IPY_MODEL_0afb8c1f680b4d4389bf05da1246e04d",
       "msg_throttle": 1
      }
     },
     "206f05c0398d4d96a026e7491a002f04": {
      "model_module": "jupyter-js-widgets",
      "model_module_version": "~2.1.4",
      "model_name": "LayoutModel",
      "state": {
       "_model_module_version": "~2.1.4",
       "_view_module_version": "~2.1.4"
      }
     },
     "21c16429a04141a491ee46b437d0662f": {
      "model_module": "jupyter-js-widgets",
      "model_module_version": "~2.1.4",
      "model_name": "LayoutModel",
      "state": {
       "_model_module_version": "~2.1.4",
       "_view_module_version": "~2.1.4"
      }
     },
     "226559618573411992336534bd07c262": {
      "model_module": "jupyter-js-widgets",
      "model_module_version": "~2.1.4",
      "model_name": "LayoutModel",
      "state": {
       "_model_module_version": "~2.1.4",
       "_view_module_version": "~2.1.4"
      }
     },
     "2277110fa20a4baf861fd62b621a194b": {
      "model_module": "jupyter-js-widgets",
      "model_module_version": "~2.1.4",
      "model_name": "LayoutModel",
      "state": {
       "_model_module_version": "~2.1.4",
       "_view_module_version": "~2.1.4"
      }
     },
     "23fdb87908f84b158b7b026820127842": {
      "model_module": "jupyter-js-widgets",
      "model_module_version": "~2.1.4",
      "model_name": "LayoutModel",
      "state": {
       "_model_module_version": "~2.1.4",
       "_view_module_version": "~2.1.4"
      }
     },
     "267c905b88ce4a719cae6cbce7187a05": {
      "model_module": "jupyter-js-widgets",
      "model_module_version": "~2.1.4",
      "model_name": "VBoxModel",
      "state": {
       "_dom_classes": [
        "widget-interact"
       ],
       "_model_module_version": "~2.1.4",
       "_view_module_version": "~2.1.4",
       "children": [
        "IPY_MODEL_9fc2a767580447f2beb622ecffc3b3ff",
        "IPY_MODEL_9e2fb8d01a874a1cad47f10a3fa65221"
       ],
       "layout": "IPY_MODEL_15b6c97020874597b5399315823e0a20"
      }
     },
     "26feffb61ac247ff94b6b674216b09ae": {
      "model_module": "jupyter-js-widgets",
      "model_module_version": "~2.1.4",
      "model_name": "SliderStyleModel",
      "state": {
       "_model_module_version": "~2.1.4",
       "_view_module_version": "~2.1.4"
      }
     },
     "272861af2d5a4a67bdbf9137ddf011e5": {
      "model_module": "jupyter-js-widgets",
      "model_module_version": "~2.1.4",
      "model_name": "OutputModel",
      "state": {
       "_dom_classes": [],
       "_model_module": "jupyter-js-widgets",
       "_model_module_version": "~2.1.4",
       "_view_module": "jupyter-js-widgets",
       "_view_module_version": "~2.1.4",
       "layout": "IPY_MODEL_430d4ed1afd2466fb69de710cfc5c121",
       "msg_throttle": 1
      }
     },
     "2784953150b5499eafdc2081a7492d4b": {
      "model_module": "jupyter-js-widgets",
      "model_module_version": "~2.1.4",
      "model_name": "DropdownModel",
      "state": {
       "_model_module_version": "~2.1.4",
       "_options_labels": [
        "1",
        "2",
        "3",
        "4",
        "5",
        "6",
        "7",
        "8",
        "9",
        "10",
        "11",
        "12",
        "13",
        "14",
        "15",
        "16",
        "17",
        "18",
        "19",
        "20",
        "21",
        "22",
        "23",
        "24",
        "25",
        "26",
        "27",
        "28",
        "29",
        "30",
        "31",
        "32",
        "33",
        "34",
        "35",
        "36",
        "37",
        "38",
        "39",
        "40",
        "41",
        "42",
        "43",
        "44",
        "45",
        "46",
        "47",
        "48",
        "49",
        "50",
        "51",
        "52",
        "53",
        "54",
        "55",
        "56",
        "57",
        "58",
        "59",
        "60",
        "61",
        "62",
        "63",
        "64",
        "65",
        "66",
        "67",
        "68",
        "69",
        "70",
        "71",
        "72",
        "73",
        "74",
        "75",
        "76",
        "77",
        "78",
        "79",
        "80",
        "81",
        "82",
        "83",
        "84",
        "85",
        "86",
        "87",
        "88",
        "89",
        "90",
        "91",
        "92",
        "93",
        "94",
        "95",
        "96",
        "97",
        "98",
        "99",
        "100",
        "110",
        "120",
        "130",
        "140",
        "150",
        "160",
        "170",
        "180",
        "190",
        "200",
        "300",
        "400",
        "500",
        "600",
        "700",
        "800",
        "900",
        "1000"
       ],
       "_view_module_version": "~2.1.4",
       "description": "num_coins",
       "layout": "IPY_MODEL_bb4d4d48f77b464bb5b526163b52ab41",
       "value": "4"
      }
     },
     "29a6befe2ab84a578584030ae7eec840": {
      "model_module": "jupyter-js-widgets",
      "model_module_version": "~2.1.4",
      "model_name": "LayoutModel",
      "state": {
       "_model_module_version": "~2.1.4",
       "_view_module_version": "~2.1.4"
      }
     },
     "2a2a786148f44f9a94e4b70aabbd329d": {
      "model_module": "jupyter-js-widgets",
      "model_module_version": "~2.1.4",
      "model_name": "DropdownModel",
      "state": {
       "_model_module_version": "~2.1.4",
       "_options_labels": [
        "1",
        "2",
        "3",
        "4",
        "5",
        "6",
        "7",
        "8",
        "9",
        "10",
        "11",
        "12",
        "13",
        "14",
        "15",
        "16",
        "17",
        "18",
        "19",
        "20",
        "21",
        "22",
        "23",
        "24",
        "25",
        "26",
        "27",
        "28",
        "29",
        "30",
        "31",
        "32",
        "33",
        "34",
        "35",
        "36",
        "37",
        "38",
        "39",
        "40",
        "41",
        "42",
        "43",
        "44",
        "45",
        "46",
        "47",
        "48",
        "49",
        "50",
        "51",
        "52",
        "53",
        "54",
        "55",
        "56",
        "57",
        "58",
        "59",
        "60",
        "61",
        "62",
        "63",
        "64",
        "65",
        "66",
        "67",
        "68",
        "69",
        "70",
        "71",
        "72",
        "73",
        "74",
        "75",
        "76",
        "77",
        "78",
        "79",
        "80",
        "81",
        "82",
        "83",
        "84",
        "85",
        "86",
        "87",
        "88",
        "89",
        "90",
        "91",
        "92",
        "93",
        "94",
        "95",
        "96",
        "97",
        "98",
        "99",
        "100",
        "110",
        "120",
        "130",
        "140",
        "150",
        "160",
        "170",
        "180",
        "190",
        "200",
        "210",
        "220",
        "230",
        "240",
        "250",
        "260",
        "270",
        "280",
        "290",
        "300",
        "310",
        "320",
        "330",
        "340",
        "350",
        "360",
        "370",
        "380",
        "390",
        "400",
        "410",
        "420",
        "430",
        "440",
        "450",
        "460",
        "470",
        "480",
        "490",
        "500",
        "510",
        "520",
        "530",
        "540",
        "550",
        "560",
        "570",
        "580",
        "590",
        "600",
        "610",
        "620",
        "630",
        "640",
        "650",
        "660",
        "670",
        "680",
        "690",
        "700",
        "710",
        "720",
        "730",
        "740",
        "750",
        "760",
        "770",
        "780",
        "790",
        "800",
        "810",
        "820",
        "830",
        "840",
        "850",
        "860",
        "870",
        "880",
        "890",
        "900",
        "910",
        "920",
        "930",
        "940",
        "950",
        "960",
        "970",
        "980",
        "990"
       ],
       "_view_module_version": "~2.1.4",
       "description": "num_coins",
       "layout": "IPY_MODEL_4e8f10e962714ba4ba539fa8a14667a0",
       "value": "690"
      }
     },
     "2b65f7f321be4d3d8b8678ee3db493a7": {
      "model_module": "jupyter-js-widgets",
      "model_module_version": "~2.1.4",
      "model_name": "SliderStyleModel",
      "state": {
       "_model_module_version": "~2.1.4",
       "_view_module_version": "~2.1.4"
      }
     },
     "2dcc824ba982465da7112c614d3ba558": {
      "model_module": "jupyter-js-widgets",
      "model_module_version": "~2.1.4",
      "model_name": "LayoutModel",
      "state": {
       "_model_module_version": "~2.1.4",
       "_view_module_version": "~2.1.4"
      }
     },
     "2e012561bbe5462c8ae74a5c03dfe0b8": {
      "model_module": "jupyter-js-widgets",
      "model_module_version": "~2.1.4",
      "model_name": "IntSliderModel",
      "state": {
       "_model_module_version": "~2.1.4",
       "_view_module_version": "~2.1.4",
       "description": "num_coins",
       "layout": "IPY_MODEL_2f4a45dd1026460a8320be23192b29cd",
       "style": "IPY_MODEL_91045e2a8f1341f4b30295493e5251f0",
       "value": 7
      }
     },
     "2e97a16ac09f4a89b90046466baf1008": {
      "model_module": "jupyter-js-widgets",
      "model_module_version": "~2.1.4",
      "model_name": "IntSliderModel",
      "state": {
       "_model_module_version": "~2.1.4",
       "_view_module_version": "~2.1.4",
       "description": "num_coins",
       "layout": "IPY_MODEL_8815cc5552564eb4b66f8485d490d1f3",
       "style": "IPY_MODEL_c0e58798190744df8983d9fbc976db59",
       "value": 10
      }
     },
     "2ee57acfa51247c9ad04d4f33411120d": {
      "model_module": "jupyter-js-widgets",
      "model_module_version": "~2.1.4",
      "model_name": "LayoutModel",
      "state": {
       "_model_module_version": "~2.1.4",
       "_view_module_version": "~2.1.4"
      }
     },
     "2f11b17782cb414b931a9b599c772e0e": {
      "model_module": "jupyter-js-widgets",
      "model_module_version": "~2.1.4",
      "model_name": "SliderStyleModel",
      "state": {
       "_model_module_version": "~2.1.4",
       "_view_module_version": "~2.1.4"
      }
     },
     "2f1f219c3267458da3929ae3c52e33f6": {
      "model_module": "jupyter-js-widgets",
      "model_module_version": "~2.1.4",
      "model_name": "VBoxModel",
      "state": {
       "_dom_classes": [
        "widget-interact"
       ],
       "_model_module_version": "~2.1.4",
       "_view_module_version": "~2.1.4",
       "children": [
        "IPY_MODEL_a4a2f719d87c40c5898dfb6f061bb1ea",
        "IPY_MODEL_92b64a0bcff74f928bbe1584d20ff580"
       ],
       "layout": "IPY_MODEL_d63c365fa7cb414b92aaaa15c247b474"
      }
     },
     "2f4a45dd1026460a8320be23192b29cd": {
      "model_module": "jupyter-js-widgets",
      "model_module_version": "~2.1.4",
      "model_name": "LayoutModel",
      "state": {
       "_model_module_version": "~2.1.4",
       "_view_module_version": "~2.1.4"
      }
     },
     "2fbfb0e93f03438db3be88af11eb22d2": {
      "model_module": "jupyter-js-widgets",
      "model_module_version": "~2.1.4",
      "model_name": "LayoutModel",
      "state": {
       "_model_module_version": "~2.1.4",
       "_view_module_version": "~2.1.4"
      }
     },
     "30c141ef3b9e494d8671517e60a487f9": {
      "model_module": "jupyter-js-widgets",
      "model_module_version": "~2.1.4",
      "model_name": "LayoutModel",
      "state": {
       "_model_module_version": "~2.1.4",
       "_view_module_version": "~2.1.4"
      }
     },
     "30fb8a4a297c4aa8a1d8208a42552a51": {
      "model_module": "jupyter-js-widgets",
      "model_module_version": "~2.1.4",
      "model_name": "IntSliderModel",
      "state": {
       "_model_module_version": "~2.1.4",
       "_view_module_version": "~2.1.4",
       "description": "num_coins",
       "layout": "IPY_MODEL_467ba09a67724bebb44b1b658be75fb1",
       "style": "IPY_MODEL_0d8122b802314415813d8582676afd91",
       "value": 4
      }
     },
     "3603ecfe18b04fc79b33265ade311967": {
      "model_module": "jupyter-js-widgets",
      "model_module_version": "~2.1.4",
      "model_name": "OutputModel",
      "state": {
       "_dom_classes": [],
       "_model_module": "jupyter-js-widgets",
       "_model_module_version": "~2.1.4",
       "_view_module": "jupyter-js-widgets",
       "_view_module_version": "~2.1.4",
       "layout": "IPY_MODEL_7f2f47f005a740b299df38afee509391",
       "msg_throttle": 1
      }
     },
     "361494ac071b4e02821227cf86a2f80e": {
      "model_module": "jupyter-js-widgets",
      "model_module_version": "~2.1.4",
      "model_name": "LayoutModel",
      "state": {
       "_model_module_version": "~2.1.4",
       "_view_module_version": "~2.1.4"
      }
     },
     "37038b1bcf4b411fababbf67779df2e9": {
      "model_module": "jupyter-js-widgets",
      "model_module_version": "~2.1.4",
      "model_name": "IntSliderModel",
      "state": {
       "_model_module_version": "~2.1.4",
       "_view_module_version": "~2.1.4",
       "description": "num_coins",
       "layout": "IPY_MODEL_41745aa452b244ad83fa42fe3340a0c6",
       "min": 1,
       "style": "IPY_MODEL_81e0eab6193946fc84531b7b7106be30",
       "value": 100
      }
     },
     "37e51af9ff364b0e8b9d6cbd9b0a6312": {
      "model_module": "jupyter-js-widgets",
      "model_module_version": "~2.1.4",
      "model_name": "LayoutModel",
      "state": {
       "_model_module_version": "~2.1.4",
       "_view_module_version": "~2.1.4"
      }
     },
     "38f133b9cea94c22beadcbfc76406329": {
      "model_module": "jupyter-js-widgets",
      "model_module_version": "~2.1.4",
      "model_name": "LayoutModel",
      "state": {
       "_model_module_version": "~2.1.4",
       "_view_module_version": "~2.1.4"
      }
     },
     "3ac30112c1d341c38aeba4590912fb90": {
      "model_module": "jupyter-js-widgets",
      "model_module_version": "~2.1.4",
      "model_name": "LayoutModel",
      "state": {
       "_model_module_version": "~2.1.4",
       "_view_module_version": "~2.1.4"
      }
     },
     "3b398ce97f9b45d59b9d599347928e65": {
      "model_module": "jupyter-js-widgets",
      "model_module_version": "~2.1.4",
      "model_name": "OutputModel",
      "state": {
       "_dom_classes": [],
       "_model_module": "jupyter-js-widgets",
       "_model_module_version": "~2.1.4",
       "_view_module": "jupyter-js-widgets",
       "_view_module_version": "~2.1.4",
       "layout": "IPY_MODEL_a7cbf87d70b44deb9f72411988927c7b",
       "msg_throttle": 1
      }
     },
     "3bb03e6dfb474d9b9009441febae7a3b": {
      "model_module": "jupyter-js-widgets",
      "model_module_version": "~2.1.4",
      "model_name": "VBoxModel",
      "state": {
       "_dom_classes": [
        "widget-interact"
       ],
       "_model_module_version": "~2.1.4",
       "_view_module_version": "~2.1.4",
       "children": [
        "IPY_MODEL_30fb8a4a297c4aa8a1d8208a42552a51",
        "IPY_MODEL_6b0c53e22a484e56925faa0a9a4109ad"
       ],
       "layout": "IPY_MODEL_49d24931f5db4d7f91c3e2b309990097"
      }
     },
     "3c6b51e75a53412e8b62d58d19b24ae6": {
      "model_module": "jupyter-js-widgets",
      "model_module_version": "~2.1.4",
      "model_name": "VBoxModel",
      "state": {
       "_dom_classes": [
        "widget-interact"
       ],
       "_model_module_version": "~2.1.4",
       "_view_module_version": "~2.1.4",
       "children": [
        "IPY_MODEL_02211e538e814908b49016599a49bd58",
        "IPY_MODEL_5d70078a7c704c66b69c6f9e84c03d15"
       ],
       "layout": "IPY_MODEL_64ab50d837d0468e8c89f29e6d34f2e4"
      }
     },
     "3cad42cb21fb48edbc676663d488486b": {
      "model_module": "jupyter-js-widgets",
      "model_module_version": "~2.1.4",
      "model_name": "LayoutModel",
      "state": {
       "_model_module_version": "~2.1.4",
       "_view_module_version": "~2.1.4"
      }
     },
     "3cbb9290bbc94b4396bb188ec9896166": {
      "model_module": "jupyter-js-widgets",
      "model_module_version": "~2.1.4",
      "model_name": "LayoutModel",
      "state": {
       "_model_module_version": "~2.1.4",
       "_view_module_version": "~2.1.4"
      }
     },
     "3e4b90d1462641e39c86078234b0696d": {
      "model_module": "jupyter-js-widgets",
      "model_module_version": "~2.1.4",
      "model_name": "LayoutModel",
      "state": {
       "_model_module_version": "~2.1.4",
       "_view_module_version": "~2.1.4"
      }
     },
     "3ffdee385ecd49bda0021c0f5b7f67c2": {
      "model_module": "jupyter-js-widgets",
      "model_module_version": "~2.1.4",
      "model_name": "IntSliderModel",
      "state": {
       "_model_module_version": "~2.1.4",
       "_view_module_version": "~2.1.4",
       "description": "num_coins",
       "layout": "IPY_MODEL_79f9fef149b547cf926f4d5475777627",
       "style": "IPY_MODEL_451828d33dd1470f9f1c6cb5fdcc6599",
       "value": 29
      }
     },
     "40612c29fcc64454ae51e8645ff099da": {
      "model_module": "jupyter-js-widgets",
      "model_module_version": "~2.1.4",
      "model_name": "VBoxModel",
      "state": {
       "_dom_classes": [
        "widget-interact"
       ],
       "_model_module_version": "~2.1.4",
       "_view_module_version": "~2.1.4",
       "children": [
        "IPY_MODEL_bcc6a505f07e48508d022bee1c56af70",
        "IPY_MODEL_c22609d13a5840dba876840873416434"
       ],
       "layout": "IPY_MODEL_e42a2b3767e84ce29858dbc5a4b82506"
      }
     },
     "41745aa452b244ad83fa42fe3340a0c6": {
      "model_module": "jupyter-js-widgets",
      "model_module_version": "~2.1.4",
      "model_name": "LayoutModel",
      "state": {
       "_model_module_version": "~2.1.4",
       "_view_module_version": "~2.1.4"
      }
     },
     "429d38e1edf54d588464e4e848227719": {
      "model_module": "jupyter-js-widgets",
      "model_module_version": "~2.1.4",
      "model_name": "VBoxModel",
      "state": {
       "_dom_classes": [
        "widget-interact"
       ],
       "_model_module_version": "~2.1.4",
       "_view_module_version": "~2.1.4",
       "children": [
        "IPY_MODEL_e3af90116d8948a5aabcf1eda6468ae7",
        "IPY_MODEL_639aaa466bc44dbb9a34910113798a7b"
       ],
       "layout": "IPY_MODEL_7a4884d5a1ae4054b88bba83f80514e3"
      }
     },
     "42af80f95d644762b73668688d3b4cdc": {
      "model_module": "jupyter-js-widgets",
      "model_module_version": "~2.1.4",
      "model_name": "VBoxModel",
      "state": {
       "_dom_classes": [
        "widget-interact"
       ],
       "_model_module_version": "~2.1.4",
       "_view_module_version": "~2.1.4",
       "children": [
        "IPY_MODEL_f4bda73bd6d34a99a2f943f458a6161b",
        "IPY_MODEL_ecf10346bab74e3b81843af654d8dca2"
       ],
       "layout": "IPY_MODEL_206f05c0398d4d96a026e7491a002f04"
      }
     },
     "430d4ed1afd2466fb69de710cfc5c121": {
      "model_module": "jupyter-js-widgets",
      "model_module_version": "~2.1.4",
      "model_name": "LayoutModel",
      "state": {
       "_model_module_version": "~2.1.4",
       "_view_module_version": "~2.1.4"
      }
     },
     "434d0fb4d7c24efa976b134e67aea8ce": {
      "model_module": "jupyter-js-widgets",
      "model_module_version": "~2.1.4",
      "model_name": "IntSliderModel",
      "state": {
       "_model_module_version": "~2.1.4",
       "_view_module_version": "~2.1.4",
       "description": "num_coins",
       "layout": "IPY_MODEL_c1e146dfd9134abfaf2bdeb53c172bca",
       "style": "IPY_MODEL_a1f6f560f3f6432ea2e3224124ad3505",
       "value": 4
      }
     },
     "437f5aa264994baea6ca0a5274f9d1f0": {
      "model_module": "jupyter-js-widgets",
      "model_module_version": "~2.1.4",
      "model_name": "SliderStyleModel",
      "state": {
       "_model_module_version": "~2.1.4",
       "_view_module_version": "~2.1.4"
      }
     },
     "43c881ecd593490aa017a7d41ff4e6d9": {
      "model_module": "jupyter-js-widgets",
      "model_module_version": "~2.1.4",
      "model_name": "VBoxModel",
      "state": {
       "_dom_classes": [
        "widget-interact"
       ],
       "_model_module_version": "~2.1.4",
       "_view_module_version": "~2.1.4",
       "children": [
        "IPY_MODEL_bf65e3df720042fc993d4abe8929f41b",
        "IPY_MODEL_5a3ced2cd0df4d83a6805f1aaadd5fa7"
       ],
       "layout": "IPY_MODEL_d24ed5af19404621ab537e8916d55c91"
      }
     },
     "440025d38024454fa3a1f5d85f3a35df": {
      "model_module": "jupyter-js-widgets",
      "model_module_version": "~2.1.4",
      "model_name": "LayoutModel",
      "state": {
       "_model_module_version": "~2.1.4",
       "_view_module_version": "~2.1.4"
      }
     },
     "44f37de4399e4317a05ece5ffe070621": {
      "model_module": "jupyter-js-widgets",
      "model_module_version": "~2.1.4",
      "model_name": "VBoxModel",
      "state": {
       "_dom_classes": [
        "widget-interact"
       ],
       "_model_module_version": "~2.1.4",
       "_view_module_version": "~2.1.4",
       "children": [
        "IPY_MODEL_37038b1bcf4b411fababbf67779df2e9",
        "IPY_MODEL_1fea83fbbec9410486ae40e5ff694512"
       ],
       "layout": "IPY_MODEL_0f306be9af644e04ad13a0f92f76419f"
      }
     },
     "44ff404e4a524bb991e8a61f741c1898": {
      "model_module": "jupyter-js-widgets",
      "model_module_version": "~2.1.4",
      "model_name": "OutputModel",
      "state": {
       "_dom_classes": [],
       "_model_module": "jupyter-js-widgets",
       "_model_module_version": "~2.1.4",
       "_view_module": "jupyter-js-widgets",
       "_view_module_version": "~2.1.4",
       "layout": "IPY_MODEL_7cab6b01f4e74f4592611c4ac0e059fd",
       "msg_throttle": 1
      }
     },
     "451828d33dd1470f9f1c6cb5fdcc6599": {
      "model_module": "jupyter-js-widgets",
      "model_module_version": "~2.1.4",
      "model_name": "SliderStyleModel",
      "state": {
       "_model_module_version": "~2.1.4",
       "_view_module_version": "~2.1.4"
      }
     },
     "467ba09a67724bebb44b1b658be75fb1": {
      "model_module": "jupyter-js-widgets",
      "model_module_version": "~2.1.4",
      "model_name": "LayoutModel",
      "state": {
       "_model_module_version": "~2.1.4",
       "_view_module_version": "~2.1.4"
      }
     },
     "46cfe2c25207489587638760c7cb1352": {
      "model_module": "jupyter-js-widgets",
      "model_module_version": "~2.1.4",
      "model_name": "IntSliderModel",
      "state": {
       "_model_module_version": "~2.1.4",
       "_view_module_version": "~2.1.4",
       "description": "num_coins",
       "layout": "IPY_MODEL_f118f023a81d476eb92605f73ace4023",
       "style": "IPY_MODEL_437f5aa264994baea6ca0a5274f9d1f0",
       "value": 19
      }
     },
     "47e6805373794b32993514f5b6eaeaab": {
      "model_module": "jupyter-js-widgets",
      "model_module_version": "~2.1.4",
      "model_name": "IntSliderModel",
      "state": {
       "_model_module_version": "~2.1.4",
       "_view_module_version": "~2.1.4",
       "description": "num_coins",
       "layout": "IPY_MODEL_0610df1312624c008e83aa826228639e",
       "max": 10,
       "min": 1,
       "style": "IPY_MODEL_cb18ec6105c74195b1258cc503515cac",
       "value": 4
      }
     },
     "499f4f1b59c44fcd93480dea549dd812": {
      "model_module": "jupyter-js-widgets",
      "model_module_version": "~2.1.4",
      "model_name": "LayoutModel",
      "state": {
       "_model_module_version": "~2.1.4",
       "_view_module_version": "~2.1.4"
      }
     },
     "49d24931f5db4d7f91c3e2b309990097": {
      "model_module": "jupyter-js-widgets",
      "model_module_version": "~2.1.4",
      "model_name": "LayoutModel",
      "state": {
       "_model_module_version": "~2.1.4",
       "_view_module_version": "~2.1.4"
      }
     },
     "4b30f5d13053475d8d2781cf5a88d6d1": {
      "model_module": "jupyter-js-widgets",
      "model_module_version": "~2.1.4",
      "model_name": "LayoutModel",
      "state": {
       "_model_module_version": "~2.1.4",
       "_view_module_version": "~2.1.4"
      }
     },
     "4bc8506cc7944ffb9f8cbcdc03fe41dd": {
      "model_module": "jupyter-js-widgets",
      "model_module_version": "~2.1.4",
      "model_name": "SliderStyleModel",
      "state": {
       "_model_module_version": "~2.1.4",
       "_view_module_version": "~2.1.4"
      }
     },
     "4d77303334704fcabc24dca1a99e3dc0": {
      "model_module": "jupyter-js-widgets",
      "model_module_version": "~2.1.4",
      "model_name": "VBoxModel",
      "state": {
       "_dom_classes": [
        "widget-interact"
       ],
       "_model_module_version": "~2.1.4",
       "_view_module_version": "~2.1.4",
       "children": [
        "IPY_MODEL_652e342ae286425d96bb9861b9bb380c",
        "IPY_MODEL_fe4e3d105be64213b7596f7a2e515b44"
       ],
       "layout": "IPY_MODEL_b1e535da4be84775bb2a1221233c22e0"
      }
     },
     "4def469916f648b6943ff8d65a8a588b": {
      "model_module": "jupyter-js-widgets",
      "model_module_version": "~2.1.4",
      "model_name": "SliderStyleModel",
      "state": {
       "_model_module_version": "~2.1.4",
       "_view_module_version": "~2.1.4"
      }
     },
     "4e8f10e962714ba4ba539fa8a14667a0": {
      "model_module": "jupyter-js-widgets",
      "model_module_version": "~2.1.4",
      "model_name": "LayoutModel",
      "state": {
       "_model_module_version": "~2.1.4",
       "_view_module_version": "~2.1.4"
      }
     },
     "4fae004b58ef4acc904c169d0e244926": {
      "model_module": "jupyter-js-widgets",
      "model_module_version": "~2.1.4",
      "model_name": "LayoutModel",
      "state": {
       "_model_module_version": "~2.1.4",
       "_view_module_version": "~2.1.4"
      }
     },
     "50fb9e72895e458091643e7a68f7e361": {
      "model_module": "jupyter-js-widgets",
      "model_module_version": "~2.1.4",
      "model_name": "LayoutModel",
      "state": {
       "_model_module_version": "~2.1.4",
       "_view_module_version": "~2.1.4"
      }
     },
     "51f1584faf904103b76c21220867d4af": {
      "model_module": "jupyter-js-widgets",
      "model_module_version": "~2.1.4",
      "model_name": "IntSliderModel",
      "state": {
       "_model_module_version": "~2.1.4",
       "_view_module_version": "~2.1.4",
       "description": "num_coins",
       "layout": "IPY_MODEL_21c16429a04141a491ee46b437d0662f",
       "style": "IPY_MODEL_9dfeb8b2185d4dda9d584c4d5891d08a",
       "value": 40
      }
     },
     "52a0e8fe023c4c6d97b21baa1a2eddd7": {
      "model_module": "jupyter-js-widgets",
      "model_module_version": "~2.1.4",
      "model_name": "LayoutModel",
      "state": {
       "_model_module_version": "~2.1.4",
       "_view_module_version": "~2.1.4"
      }
     },
     "53e2afc52d39414b9abad13dfd1d1aa2": {
      "model_module": "jupyter-js-widgets",
      "model_module_version": "~2.1.4",
      "model_name": "LayoutModel",
      "state": {
       "_model_module_version": "~2.1.4",
       "_view_module_version": "~2.1.4"
      }
     },
     "53fbbe99afd7485ea3e454cd4c0afa0f": {
      "model_module": "jupyter-js-widgets",
      "model_module_version": "~2.1.4",
      "model_name": "LayoutModel",
      "state": {
       "_model_module_version": "~2.1.4",
       "_view_module_version": "~2.1.4"
      }
     },
     "566d9925df84430aa39f972e6cd6c9b5": {
      "model_module": "jupyter-js-widgets",
      "model_module_version": "~2.1.4",
      "model_name": "IntSliderModel",
      "state": {
       "_model_module_version": "~2.1.4",
       "_view_module_version": "~2.1.4",
       "description": "num_coins",
       "layout": "IPY_MODEL_047de86663d4434dab99382f82b2493a",
       "style": "IPY_MODEL_1c2a1b997a194ed2ad9e465ea331571a",
       "value": 14
      }
     },
     "5785aaaca92d48a895e790b241c2df1c": {
      "model_module": "jupyter-js-widgets",
      "model_module_version": "~2.1.4",
      "model_name": "LayoutModel",
      "state": {
       "_model_module_version": "~2.1.4",
       "_view_module_version": "~2.1.4"
      }
     },
     "57dfdc72d5614c8f988057a0e14b7d45": {
      "model_module": "jupyter-js-widgets",
      "model_module_version": "~2.1.4",
      "model_name": "LayoutModel",
      "state": {
       "_model_module_version": "~2.1.4",
       "_view_module_version": "~2.1.4"
      }
     },
     "58cf043396394a3ab8b36883324405c2": {
      "model_module": "jupyter-js-widgets",
      "model_module_version": "~2.1.4",
      "model_name": "LayoutModel",
      "state": {
       "_model_module_version": "~2.1.4",
       "_view_module_version": "~2.1.4"
      }
     },
     "5945b56ffeb1495f979b84a9e6153297": {
      "model_module": "jupyter-js-widgets",
      "model_module_version": "~2.1.4",
      "model_name": "SliderStyleModel",
      "state": {
       "_model_module_version": "~2.1.4",
       "_view_module_version": "~2.1.4"
      }
     },
     "5a3ced2cd0df4d83a6805f1aaadd5fa7": {
      "model_module": "jupyter-js-widgets",
      "model_module_version": "~2.1.4",
      "model_name": "OutputModel",
      "state": {
       "_dom_classes": [],
       "_model_module": "jupyter-js-widgets",
       "_model_module_version": "~2.1.4",
       "_view_module": "jupyter-js-widgets",
       "_view_module_version": "~2.1.4",
       "layout": "IPY_MODEL_b831285ebaff43c4a1eca719f92b4af4",
       "msg_throttle": 1
      }
     },
     "5ad58073fbbd4ce98c67ffa3358f5539": {
      "model_module": "jupyter-js-widgets",
      "model_module_version": "~2.1.4",
      "model_name": "SliderStyleModel",
      "state": {
       "_model_module_version": "~2.1.4",
       "_view_module_version": "~2.1.4"
      }
     },
     "5ae2e095b08f4675a0238225a64294cf": {
      "model_module": "jupyter-js-widgets",
      "model_module_version": "~2.1.4",
      "model_name": "LayoutModel",
      "state": {
       "_model_module_version": "~2.1.4",
       "_view_module_version": "~2.1.4"
      }
     },
     "5c01f154c6a241309a1d25b3839f0add": {
      "model_module": "jupyter-js-widgets",
      "model_module_version": "~2.1.4",
      "model_name": "LayoutModel",
      "state": {
       "_model_module_version": "~2.1.4",
       "_view_module_version": "~2.1.4"
      }
     },
     "5c0fcf2eda144ec4b69b45c274e823d9": {
      "model_module": "jupyter-js-widgets",
      "model_module_version": "~2.1.4",
      "model_name": "LayoutModel",
      "state": {
       "_model_module_version": "~2.1.4",
       "_view_module_version": "~2.1.4"
      }
     },
     "5d005fea7b7d4f408ad7058b44bddebe": {
      "model_module": "jupyter-js-widgets",
      "model_module_version": "~2.1.4",
      "model_name": "LayoutModel",
      "state": {
       "_model_module_version": "~2.1.4",
       "_view_module_version": "~2.1.4"
      }
     },
     "5d12d41a87314239befff4f38edfc230": {
      "model_module": "jupyter-js-widgets",
      "model_module_version": "~2.1.4",
      "model_name": "OutputModel",
      "state": {
       "_dom_classes": [],
       "_model_module": "jupyter-js-widgets",
       "_model_module_version": "~2.1.4",
       "_view_module": "jupyter-js-widgets",
       "_view_module_version": "~2.1.4",
       "layout": "IPY_MODEL_4fae004b58ef4acc904c169d0e244926",
       "msg_throttle": 1
      }
     },
     "5d70078a7c704c66b69c6f9e84c03d15": {
      "model_module": "jupyter-js-widgets",
      "model_module_version": "~2.1.4",
      "model_name": "OutputModel",
      "state": {
       "_dom_classes": [],
       "_model_module": "jupyter-js-widgets",
       "_model_module_version": "~2.1.4",
       "_view_module": "jupyter-js-widgets",
       "_view_module_version": "~2.1.4",
       "layout": "IPY_MODEL_52a0e8fe023c4c6d97b21baa1a2eddd7",
       "msg_throttle": 1
      }
     },
     "5ec4c5dc7c444fc2a4c8739db36cb7bf": {
      "model_module": "jupyter-js-widgets",
      "model_module_version": "~2.1.4",
      "model_name": "LayoutModel",
      "state": {
       "_model_module_version": "~2.1.4",
       "_view_module_version": "~2.1.4"
      }
     },
     "6216f0bf766a41ac8b7e7fd4fed25f99": {
      "model_module": "jupyter-js-widgets",
      "model_module_version": "~2.1.4",
      "model_name": "LayoutModel",
      "state": {
       "_model_module_version": "~2.1.4",
       "_view_module_version": "~2.1.4"
      }
     },
     "639aaa466bc44dbb9a34910113798a7b": {
      "model_module": "jupyter-js-widgets",
      "model_module_version": "~2.1.4",
      "model_name": "OutputModel",
      "state": {
       "_dom_classes": [],
       "_model_module": "jupyter-js-widgets",
       "_model_module_version": "~2.1.4",
       "_view_module": "jupyter-js-widgets",
       "_view_module_version": "~2.1.4",
       "layout": "IPY_MODEL_a3ff2a51a8bd484e8d31e99f9f4bd859",
       "msg_throttle": 1
      }
     },
     "6442fe5d28684dac98304c03a7af16d9": {
      "model_module": "jupyter-js-widgets",
      "model_module_version": "~2.1.4",
      "model_name": "IntSliderModel",
      "state": {
       "_model_module_version": "~2.1.4",
       "_view_module_version": "~2.1.4",
       "description": "num_coins",
       "layout": "IPY_MODEL_c23be51062eb4f749312f53c7743aa89",
       "min": 1,
       "style": "IPY_MODEL_81bae20cdf2c468592c45f319a63994b",
       "value": 4
      }
     },
     "64a72a9cf69643bc9b400ad9e15d12f0": {
      "model_module": "jupyter-js-widgets",
      "model_module_version": "~2.1.4",
      "model_name": "LayoutModel",
      "state": {
       "_model_module_version": "~2.1.4",
       "_view_module_version": "~2.1.4"
      }
     },
     "64ab50d837d0468e8c89f29e6d34f2e4": {
      "model_module": "jupyter-js-widgets",
      "model_module_version": "~2.1.4",
      "model_name": "LayoutModel",
      "state": {
       "_model_module_version": "~2.1.4",
       "_view_module_version": "~2.1.4"
      }
     },
     "64d50be13b2e461aaae43895365e6d80": {
      "model_module": "jupyter-js-widgets",
      "model_module_version": "~2.1.4",
      "model_name": "LayoutModel",
      "state": {
       "_model_module_version": "~2.1.4",
       "_view_module_version": "~2.1.4"
      }
     },
     "652e342ae286425d96bb9861b9bb380c": {
      "model_module": "jupyter-js-widgets",
      "model_module_version": "~2.1.4",
      "model_name": "IntSliderModel",
      "state": {
       "_model_module_version": "~2.1.4",
       "_view_module_version": "~2.1.4",
       "description": "num_coins",
       "layout": "IPY_MODEL_9e9820ece87c4984a838eff4c8ed0556",
       "style": "IPY_MODEL_7ceacc4a175d4d3783ec0f3e5afdfce0",
       "value": 4
      }
     },
     "671e82be7caa426bad9f5e8591ea0280": {
      "model_module": "jupyter-js-widgets",
      "model_module_version": "~2.1.4",
      "model_name": "IntSliderModel",
      "state": {
       "_model_module_version": "~2.1.4",
       "_view_module_version": "~2.1.4",
       "description": "num_coins",
       "layout": "IPY_MODEL_fed2df621b894a4b9d00fd9ca1506993",
       "style": "IPY_MODEL_84321f3c9744407b8454ef526f2b942b",
       "value": 22
      }
     },
     "685171e600964b5387c7c0f13af7624d": {
      "model_module": "jupyter-js-widgets",
      "model_module_version": "~2.1.4",
      "model_name": "VBoxModel",
      "state": {
       "_dom_classes": [
        "widget-interact"
       ],
       "_model_module_version": "~2.1.4",
       "_view_module_version": "~2.1.4",
       "children": [
        "IPY_MODEL_46cfe2c25207489587638760c7cb1352",
        "IPY_MODEL_cbe7f2eef6834c53bbe59a83ca3748c0"
       ],
       "layout": "IPY_MODEL_147a2620f2b64b6ca26a9967a376886d"
      }
     },
     "68a74d8ae26944798a8fa36d62e0fc67": {
      "model_module": "jupyter-js-widgets",
      "model_module_version": "~2.1.4",
      "model_name": "LayoutModel",
      "state": {
       "_model_module_version": "~2.1.4",
       "_view_module_version": "~2.1.4"
      }
     },
     "69fda743725f4ff79a4ee8cc530969ba": {
      "model_module": "jupyter-js-widgets",
      "model_module_version": "~2.1.4",
      "model_name": "VBoxModel",
      "state": {
       "_dom_classes": [
        "widget-interact"
       ],
       "_model_module_version": "~2.1.4",
       "_view_module_version": "~2.1.4",
       "children": [
        "IPY_MODEL_566d9925df84430aa39f972e6cd6c9b5",
        "IPY_MODEL_731e7aab52234da58f2be0f57edfeaa1"
       ],
       "layout": "IPY_MODEL_e58aa466fb3a404f836953bfd77ee56f"
      }
     },
     "6a269f53f1344fdd894f5065afd96718": {
      "model_module": "jupyter-js-widgets",
      "model_module_version": "~2.1.4",
      "model_name": "OutputModel",
      "state": {
       "_dom_classes": [],
       "_model_module": "jupyter-js-widgets",
       "_model_module_version": "~2.1.4",
       "_view_module": "jupyter-js-widgets",
       "_view_module_version": "~2.1.4",
       "layout": "IPY_MODEL_704333369a674aa6ac6762d06e569012",
       "msg_throttle": 1
      }
     },
     "6a743a3d775b41b588935a5ca4be635d": {
      "model_module": "jupyter-js-widgets",
      "model_module_version": "~2.1.4",
      "model_name": "VBoxModel",
      "state": {
       "_dom_classes": [
        "widget-interact"
       ],
       "_model_module_version": "~2.1.4",
       "_view_module_version": "~2.1.4",
       "children": [
        "IPY_MODEL_2e012561bbe5462c8ae74a5c03dfe0b8",
        "IPY_MODEL_cca71fd8111a41fc82fe7e73c72876ef"
       ],
       "layout": "IPY_MODEL_c158c0c18e44490e99bfddf7ca51a03d"
      }
     },
     "6ad42b612e0d40e487b39250c72f4c59": {
      "model_module": "jupyter-js-widgets",
      "model_module_version": "~2.1.4",
      "model_name": "VBoxModel",
      "state": {
       "_dom_classes": [
        "widget-interact"
       ],
       "_model_module_version": "~2.1.4",
       "_view_module_version": "~2.1.4",
       "children": [
        "IPY_MODEL_e02dc1f641f0481f975fbff2ec73a8c8",
        "IPY_MODEL_44ff404e4a524bb991e8a61f741c1898"
       ],
       "layout": "IPY_MODEL_6cfa0d22000a4fbbb8ceec9766b3070e"
      }
     },
     "6b0c53e22a484e56925faa0a9a4109ad": {
      "model_module": "jupyter-js-widgets",
      "model_module_version": "~2.1.4",
      "model_name": "OutputModel",
      "state": {
       "_dom_classes": [],
       "_model_module": "jupyter-js-widgets",
       "_model_module_version": "~2.1.4",
       "_view_module": "jupyter-js-widgets",
       "_view_module_version": "~2.1.4",
       "layout": "IPY_MODEL_57dfdc72d5614c8f988057a0e14b7d45",
       "msg_throttle": 1
      }
     },
     "6cfa0d22000a4fbbb8ceec9766b3070e": {
      "model_module": "jupyter-js-widgets",
      "model_module_version": "~2.1.4",
      "model_name": "LayoutModel",
      "state": {
       "_model_module_version": "~2.1.4",
       "_view_module_version": "~2.1.4"
      }
     },
     "6d11e74b0cfd48b6abfd464ca9fdbe3d": {
      "model_module": "jupyter-js-widgets",
      "model_module_version": "~2.1.4",
      "model_name": "OutputModel",
      "state": {
       "_dom_classes": [],
       "_model_module": "jupyter-js-widgets",
       "_model_module_version": "~2.1.4",
       "_view_module": "jupyter-js-widgets",
       "_view_module_version": "~2.1.4",
       "layout": "IPY_MODEL_92b24b22c6904191acfd0627f285d3fb",
       "msg_throttle": 1
      }
     },
     "6d27e80fc2384710b2ddbdcc7282162c": {
      "model_module": "jupyter-js-widgets",
      "model_module_version": "~2.1.4",
      "model_name": "LayoutModel",
      "state": {
       "_model_module_version": "~2.1.4",
       "_view_module_version": "~2.1.4"
      }
     },
     "6f17bec589704c099deb5fabd536ee4d": {
      "model_module": "jupyter-js-widgets",
      "model_module_version": "~2.1.4",
      "model_name": "IntSliderModel",
      "state": {
       "_model_module_version": "~2.1.4",
       "_view_module_version": "~2.1.4",
       "description": "num_coins",
       "layout": "IPY_MODEL_5ae2e095b08f4675a0238225a64294cf",
       "style": "IPY_MODEL_f33caae99b3444fa87540d43cda22fe9",
       "value": 4
      }
     },
     "704333369a674aa6ac6762d06e569012": {
      "model_module": "jupyter-js-widgets",
      "model_module_version": "~2.1.4",
      "model_name": "LayoutModel",
      "state": {
       "_model_module_version": "~2.1.4",
       "_view_module_version": "~2.1.4"
      }
     },
     "714d8d6e924f4009ab99679f36a0cf2b": {
      "model_module": "jupyter-js-widgets",
      "model_module_version": "~2.1.4",
      "model_name": "OutputModel",
      "state": {
       "_dom_classes": [],
       "_model_module": "jupyter-js-widgets",
       "_model_module_version": "~2.1.4",
       "_view_module": "jupyter-js-widgets",
       "_view_module_version": "~2.1.4",
       "layout": "IPY_MODEL_81e302049a2b4309bc091789f4e5baab",
       "msg_throttle": 1
      }
     },
     "7236ec746e40421a80178f0877019fd5": {
      "model_module": "jupyter-js-widgets",
      "model_module_version": "~2.1.4",
      "model_name": "SliderStyleModel",
      "state": {
       "_model_module_version": "~2.1.4",
       "_view_module_version": "~2.1.4"
      }
     },
     "723ebb037fc84dfeb028b2a0de2e5641": {
      "model_module": "jupyter-js-widgets",
      "model_module_version": "~2.1.4",
      "model_name": "LayoutModel",
      "state": {
       "_model_module_version": "~2.1.4",
       "_view_module_version": "~2.1.4"
      }
     },
     "724a03bd587749c5bb81cae31c7cff0c": {
      "model_module": "jupyter-js-widgets",
      "model_module_version": "~2.1.4",
      "model_name": "OutputModel",
      "state": {
       "_dom_classes": [],
       "_model_module": "jupyter-js-widgets",
       "_model_module_version": "~2.1.4",
       "_view_module": "jupyter-js-widgets",
       "_view_module_version": "~2.1.4",
       "layout": "IPY_MODEL_3ac30112c1d341c38aeba4590912fb90",
       "msg_throttle": 1
      }
     },
     "731e7aab52234da58f2be0f57edfeaa1": {
      "model_module": "jupyter-js-widgets",
      "model_module_version": "~2.1.4",
      "model_name": "OutputModel",
      "state": {
       "_dom_classes": [],
       "_model_module": "jupyter-js-widgets",
       "_model_module_version": "~2.1.4",
       "_view_module": "jupyter-js-widgets",
       "_view_module_version": "~2.1.4",
       "layout": "IPY_MODEL_a643aa4f75634831927afa25cb8a74c9",
       "msg_throttle": 1
      }
     },
     "73559842b22048fd810bcf3eea3c17b6": {
      "model_module": "jupyter-js-widgets",
      "model_module_version": "~2.1.4",
      "model_name": "LayoutModel",
      "state": {
       "_model_module_version": "~2.1.4",
       "_view_module_version": "~2.1.4"
      }
     },
     "754f0430cdf9470899507f87be97f6d9": {
      "model_module": "jupyter-js-widgets",
      "model_module_version": "~2.1.4",
      "model_name": "LayoutModel",
      "state": {
       "_model_module_version": "~2.1.4",
       "_view_module_version": "~2.1.4"
      }
     },
     "79f9fef149b547cf926f4d5475777627": {
      "model_module": "jupyter-js-widgets",
      "model_module_version": "~2.1.4",
      "model_name": "LayoutModel",
      "state": {
       "_model_module_version": "~2.1.4",
       "_view_module_version": "~2.1.4"
      }
     },
     "7a4884d5a1ae4054b88bba83f80514e3": {
      "model_module": "jupyter-js-widgets",
      "model_module_version": "~2.1.4",
      "model_name": "LayoutModel",
      "state": {
       "_model_module_version": "~2.1.4",
       "_view_module_version": "~2.1.4"
      }
     },
     "7a71a083a4d141a0af63f7e601121270": {
      "model_module": "jupyter-js-widgets",
      "model_module_version": "~2.1.4",
      "model_name": "SliderStyleModel",
      "state": {
       "_model_module_version": "~2.1.4",
       "_view_module_version": "~2.1.4"
      }
     },
     "7c4c2f642fc54dd7801ec3b1b64ddafc": {
      "model_module": "jupyter-js-widgets",
      "model_module_version": "~2.1.4",
      "model_name": "LayoutModel",
      "state": {
       "_model_module_version": "~2.1.4",
       "_view_module_version": "~2.1.4"
      }
     },
     "7cab6b01f4e74f4592611c4ac0e059fd": {
      "model_module": "jupyter-js-widgets",
      "model_module_version": "~2.1.4",
      "model_name": "LayoutModel",
      "state": {
       "_model_module_version": "~2.1.4",
       "_view_module_version": "~2.1.4"
      }
     },
     "7ceacc4a175d4d3783ec0f3e5afdfce0": {
      "model_module": "jupyter-js-widgets",
      "model_module_version": "~2.1.4",
      "model_name": "SliderStyleModel",
      "state": {
       "_model_module_version": "~2.1.4",
       "_view_module_version": "~2.1.4"
      }
     },
     "7d94a28fb83b41b8816783e09520961e": {
      "model_module": "jupyter-js-widgets",
      "model_module_version": "~2.1.4",
      "model_name": "LayoutModel",
      "state": {
       "_model_module_version": "~2.1.4",
       "_view_module_version": "~2.1.4"
      }
     },
     "7e2933b1c61a4b13bcfc69c25cd2a94d": {
      "model_module": "jupyter-js-widgets",
      "model_module_version": "~2.1.4",
      "model_name": "IntSliderModel",
      "state": {
       "_model_module_version": "~2.1.4",
       "_view_module_version": "~2.1.4",
       "description": "num_coins",
       "layout": "IPY_MODEL_440025d38024454fa3a1f5d85f3a35df",
       "min": 1,
       "style": "IPY_MODEL_7e8b8ed4121e49e4bd1e7c8e0fa7cc5a",
       "value": 100
      }
     },
     "7e8b8ed4121e49e4bd1e7c8e0fa7cc5a": {
      "model_module": "jupyter-js-widgets",
      "model_module_version": "~2.1.4",
      "model_name": "SliderStyleModel",
      "state": {
       "_model_module_version": "~2.1.4",
       "_view_module_version": "~2.1.4"
      }
     },
     "7f2f47f005a740b299df38afee509391": {
      "model_module": "jupyter-js-widgets",
      "model_module_version": "~2.1.4",
      "model_name": "LayoutModel",
      "state": {
       "_model_module_version": "~2.1.4",
       "_view_module_version": "~2.1.4"
      }
     },
     "81bae20cdf2c468592c45f319a63994b": {
      "model_module": "jupyter-js-widgets",
      "model_module_version": "~2.1.4",
      "model_name": "SliderStyleModel",
      "state": {
       "_model_module_version": "~2.1.4",
       "_view_module_version": "~2.1.4"
      }
     },
     "81e0eab6193946fc84531b7b7106be30": {
      "model_module": "jupyter-js-widgets",
      "model_module_version": "~2.1.4",
      "model_name": "SliderStyleModel",
      "state": {
       "_model_module_version": "~2.1.4",
       "_view_module_version": "~2.1.4"
      }
     },
     "81e302049a2b4309bc091789f4e5baab": {
      "model_module": "jupyter-js-widgets",
      "model_module_version": "~2.1.4",
      "model_name": "LayoutModel",
      "state": {
       "_model_module_version": "~2.1.4",
       "_view_module_version": "~2.1.4"
      }
     },
     "83cbae5d17634d87bbff49531d78b353": {
      "model_module": "jupyter-js-widgets",
      "model_module_version": "~2.1.4",
      "model_name": "LayoutModel",
      "state": {
       "_model_module_version": "~2.1.4",
       "_view_module_version": "~2.1.4"
      }
     },
     "83cbe8181a42459b92fd592fa678af3d": {
      "model_module": "jupyter-js-widgets",
      "model_module_version": "~2.1.4",
      "model_name": "OutputModel",
      "state": {
       "_dom_classes": [],
       "_model_module": "jupyter-js-widgets",
       "_model_module_version": "~2.1.4",
       "_view_module": "jupyter-js-widgets",
       "_view_module_version": "~2.1.4",
       "layout": "IPY_MODEL_ce03a4ea2abb4b078715bf226ecb8505",
       "msg_throttle": 1
      }
     },
     "84321f3c9744407b8454ef526f2b942b": {
      "model_module": "jupyter-js-widgets",
      "model_module_version": "~2.1.4",
      "model_name": "SliderStyleModel",
      "state": {
       "_model_module_version": "~2.1.4",
       "_view_module_version": "~2.1.4"
      }
     },
     "8565d5c8cee34934b53dbe3f1c56525d": {
      "model_module": "jupyter-js-widgets",
      "model_module_version": "~2.1.4",
      "model_name": "LayoutModel",
      "state": {
       "_model_module_version": "~2.1.4",
       "_view_module_version": "~2.1.4"
      }
     },
     "86078e894e29455e8d4b00d6d9f9d4a2": {
      "model_module": "jupyter-js-widgets",
      "model_module_version": "~2.1.4",
      "model_name": "LayoutModel",
      "state": {
       "_model_module_version": "~2.1.4",
       "_view_module_version": "~2.1.4"
      }
     },
     "863371d7ee9e4ae7937cc730b34fd533": {
      "model_module": "jupyter-js-widgets",
      "model_module_version": "~2.1.4",
      "model_name": "IntSliderModel",
      "state": {
       "_model_module_version": "~2.1.4",
       "_view_module_version": "~2.1.4",
       "description": "num_coins",
       "layout": "IPY_MODEL_a94ff55218a84f25b7bdeecf7e2f1cb3",
       "min": 1,
       "style": "IPY_MODEL_26feffb61ac247ff94b6b674216b09ae",
       "value": 54
      }
     },
     "87678c83af6745d9a20d1b8bff8baa54": {
      "model_module": "jupyter-js-widgets",
      "model_module_version": "~2.1.4",
      "model_name": "LayoutModel",
      "state": {
       "_model_module_version": "~2.1.4",
       "_view_module_version": "~2.1.4"
      }
     },
     "8815cc5552564eb4b66f8485d490d1f3": {
      "model_module": "jupyter-js-widgets",
      "model_module_version": "~2.1.4",
      "model_name": "LayoutModel",
      "state": {
       "_model_module_version": "~2.1.4",
       "_view_module_version": "~2.1.4"
      }
     },
     "8890ef544c374f4ca13ab22678734db2": {
      "model_module": "jupyter-js-widgets",
      "model_module_version": "~2.1.4",
      "model_name": "VBoxModel",
      "state": {
       "_dom_classes": [
        "widget-interact"
       ],
       "_model_module_version": "~2.1.4",
       "_view_module_version": "~2.1.4",
       "layout": "IPY_MODEL_361494ac071b4e02821227cf86a2f80e"
      }
     },
     "88a01d7cd95e44c1aac30fff478bae29": {
      "model_module": "jupyter-js-widgets",
      "model_module_version": "~2.1.4",
      "model_name": "LayoutModel",
      "state": {
       "_model_module_version": "~2.1.4",
       "_view_module_version": "~2.1.4"
      }
     },
     "88b5a1994dc14cc99e31fba6ac082bdc": {
      "model_module": "jupyter-js-widgets",
      "model_module_version": "~2.1.4",
      "model_name": "LayoutModel",
      "state": {
       "_model_module_version": "~2.1.4",
       "_view_module_version": "~2.1.4"
      }
     },
     "8988e9b4ad2a43a9bc8e386b85030600": {
      "model_module": "jupyter-js-widgets",
      "model_module_version": "~2.1.4",
      "model_name": "VBoxModel",
      "state": {
       "_dom_classes": [
        "widget-interact"
       ],
       "_model_module_version": "~2.1.4",
       "_view_module_version": "~2.1.4",
       "children": [
        "IPY_MODEL_0a6eb7cd1f7c4a7bba9307b5f381d19e",
        "IPY_MODEL_17f3c5a2b8a24319950717e50ab529ce"
       ],
       "layout": "IPY_MODEL_faf7ca9b40484a549c44803bf76c7a76"
      }
     },
     "8b3fb639941244c290d3ad400e9c42ad": {
      "model_module": "jupyter-js-widgets",
      "model_module_version": "~2.1.4",
      "model_name": "VBoxModel",
      "state": {
       "_dom_classes": [
        "widget-interact"
       ],
       "_model_module_version": "~2.1.4",
       "_view_module_version": "~2.1.4",
       "children": [
        "IPY_MODEL_2784953150b5499eafdc2081a7492d4b",
        "IPY_MODEL_3603ecfe18b04fc79b33265ade311967"
       ],
       "layout": "IPY_MODEL_6d27e80fc2384710b2ddbdcc7282162c"
      }
     },
     "8b58214cf4ce4e5cb3095d6dbcbdabd1": {
      "model_module": "jupyter-js-widgets",
      "model_module_version": "~2.1.4",
      "model_name": "LayoutModel",
      "state": {
       "_model_module_version": "~2.1.4",
       "_view_module_version": "~2.1.4"
      }
     },
     "8ce7e20c3fe24620bf3423109c095d27": {
      "model_module": "jupyter-js-widgets",
      "model_module_version": "~2.1.4",
      "model_name": "IntSliderModel",
      "state": {
       "_model_module_version": "~2.1.4",
       "_view_module_version": "~2.1.4",
       "description": "num_coins",
       "layout": "IPY_MODEL_87678c83af6745d9a20d1b8bff8baa54",
       "style": "IPY_MODEL_b6a16ed4ee63474e8ec70ab82775fe8f",
       "value": 15
      }
     },
     "8d44dc30ad5649dfa82d7ee39df5c9e3": {
      "model_module": "jupyter-js-widgets",
      "model_module_version": "~2.1.4",
      "model_name": "OutputModel",
      "state": {
       "_dom_classes": [],
       "_model_module": "jupyter-js-widgets",
       "_model_module_version": "~2.1.4",
       "_view_module": "jupyter-js-widgets",
       "_view_module_version": "~2.1.4",
       "layout": "IPY_MODEL_6216f0bf766a41ac8b7e7fd4fed25f99",
       "msg_throttle": 1
      }
     },
     "90292d0a7030458a9fb21647f3be060d": {
      "model_module": "jupyter-js-widgets",
      "model_module_version": "~2.1.4",
      "model_name": "IntSliderModel",
      "state": {
       "_model_module_version": "~2.1.4",
       "_view_module_version": "~2.1.4",
       "description": "num_coins",
       "layout": "IPY_MODEL_f8ce721de24643e58bb0b2f9d2f1d755",
       "style": "IPY_MODEL_e47d9c0b1ed5476b846b8d13281271aa",
       "value": 28
      }
     },
     "902bb36c8b4444d18e50c506f8428f23": {
      "model_module": "jupyter-js-widgets",
      "model_module_version": "~2.1.4",
      "model_name": "LayoutModel",
      "state": {
       "_model_module_version": "~2.1.4",
       "_view_module_version": "~2.1.4"
      }
     },
     "91045e2a8f1341f4b30295493e5251f0": {
      "model_module": "jupyter-js-widgets",
      "model_module_version": "~2.1.4",
      "model_name": "SliderStyleModel",
      "state": {
       "_model_module_version": "~2.1.4",
       "_view_module_version": "~2.1.4"
      }
     },
     "9110f8c86212456ca7c9bfaf7bd4912c": {
      "model_module": "jupyter-js-widgets",
      "model_module_version": "~2.1.4",
      "model_name": "OutputModel",
      "state": {
       "_dom_classes": [],
       "_model_module": "jupyter-js-widgets",
       "_model_module_version": "~2.1.4",
       "_view_module": "jupyter-js-widgets",
       "_view_module_version": "~2.1.4",
       "layout": "IPY_MODEL_0f94f34ef5094372b08ae62cd5176967",
       "msg_throttle": 1
      }
     },
     "91477d2a610a4761bace6b0cfd3bf1e3": {
      "model_module": "jupyter-js-widgets",
      "model_module_version": "~2.1.4",
      "model_name": "IntSliderModel",
      "state": {
       "_model_module_version": "~2.1.4",
       "_view_module_version": "~2.1.4",
       "description": "num_coins",
       "layout": "IPY_MODEL_14ae6c1b0f474f07956a860550c0308e",
       "style": "IPY_MODEL_7a71a083a4d141a0af63f7e601121270",
       "value": 4
      }
     },
     "92b24b22c6904191acfd0627f285d3fb": {
      "model_module": "jupyter-js-widgets",
      "model_module_version": "~2.1.4",
      "model_name": "LayoutModel",
      "state": {
       "_model_module_version": "~2.1.4",
       "_view_module_version": "~2.1.4"
      }
     },
     "92b64a0bcff74f928bbe1584d20ff580": {
      "model_module": "jupyter-js-widgets",
      "model_module_version": "~2.1.4",
      "model_name": "OutputModel",
      "state": {
       "_dom_classes": [],
       "_model_module": "jupyter-js-widgets",
       "_model_module_version": "~2.1.4",
       "_view_module": "jupyter-js-widgets",
       "_view_module_version": "~2.1.4",
       "layout": "IPY_MODEL_13ea6b8d5c19405998b013a3d4d6ee5c",
       "msg_throttle": 1
      }
     },
     "92bdf8c40a02408595f42d63fb55fa21": {
      "model_module": "jupyter-js-widgets",
      "model_module_version": "~2.1.4",
      "model_name": "VBoxModel",
      "state": {
       "_dom_classes": [
        "widget-interact"
       ],
       "_model_module_version": "~2.1.4",
       "_view_module_version": "~2.1.4",
       "children": [
        "IPY_MODEL_671e82be7caa426bad9f5e8591ea0280",
        "IPY_MODEL_0642e26f22294312891b26a66743bd42"
       ],
       "layout": "IPY_MODEL_37e51af9ff364b0e8b9d6cbd9b0a6312"
      }
     },
     "92bfde0a694747218d35e3b000a958c8": {
      "model_module": "jupyter-js-widgets",
      "model_module_version": "~2.1.4",
      "model_name": "LayoutModel",
      "state": {
       "_model_module_version": "~2.1.4",
       "_view_module_version": "~2.1.4"
      }
     },
     "957ce3f978984677aba2df1044776193": {
      "model_module": "jupyter-js-widgets",
      "model_module_version": "~2.1.4",
      "model_name": "SliderStyleModel",
      "state": {
       "_model_module_version": "~2.1.4",
       "_view_module_version": "~2.1.4"
      }
     },
     "974e79d659cd43ee9ea394ab2b7c9f87": {
      "model_module": "jupyter-js-widgets",
      "model_module_version": "~2.1.4",
      "model_name": "VBoxModel",
      "state": {
       "_dom_classes": [
        "widget-interact"
       ],
       "_model_module_version": "~2.1.4",
       "_view_module_version": "~2.1.4",
       "children": [
        "IPY_MODEL_dcd979c77d27473fb9679ef4ff8d12bd",
        "IPY_MODEL_f3dca63b7fd84d72af080507691d8508"
       ],
       "layout": "IPY_MODEL_da7eb5630730477889f3bf5c65f57920"
      }
     },
     "981b4cef33d041b0b9be6c497d40b2d2": {
      "model_module": "jupyter-js-widgets",
      "model_module_version": "~2.1.4",
      "model_name": "LayoutModel",
      "state": {
       "_model_module_version": "~2.1.4",
       "_view_module_version": "~2.1.4"
      }
     },
     "988a0fb9e891482bbb6a1fe60b8faba1": {
      "model_module": "jupyter-js-widgets",
      "model_module_version": "~2.1.4",
      "model_name": "LayoutModel",
      "state": {
       "_model_module_version": "~2.1.4",
       "_view_module_version": "~2.1.4"
      }
     },
     "990f975a69a249e78aba64e086e64702": {
      "model_module": "jupyter-js-widgets",
      "model_module_version": "~2.1.4",
      "model_name": "VBoxModel",
      "state": {
       "_dom_classes": [
        "widget-interact"
       ],
       "_model_module_version": "~2.1.4",
       "_view_module_version": "~2.1.4",
       "children": [
        "IPY_MODEL_117f96f7fb344d7c9101dda2e90c1b38",
        "IPY_MODEL_9110f8c86212456ca7c9bfaf7bd4912c"
       ],
       "layout": "IPY_MODEL_5d005fea7b7d4f408ad7058b44bddebe"
      }
     },
     "9bd02b1542f04e26ab6178d9458f2104": {
      "model_module": "jupyter-js-widgets",
      "model_module_version": "~2.1.4",
      "model_name": "SliderStyleModel",
      "state": {
       "_model_module_version": "~2.1.4",
       "_view_module_version": "~2.1.4"
      }
     },
     "9c0d337202514d7399cbd5da1cc5d2c6": {
      "model_module": "jupyter-js-widgets",
      "model_module_version": "~2.1.4",
      "model_name": "VBoxModel",
      "state": {
       "_dom_classes": [
        "widget-interact"
       ],
       "_model_module_version": "~2.1.4",
       "_view_module_version": "~2.1.4",
       "children": [
        "IPY_MODEL_2a2a786148f44f9a94e4b70aabbd329d",
        "IPY_MODEL_e350567b8a664d3f97089243c9e5320e"
       ],
       "layout": "IPY_MODEL_5ec4c5dc7c444fc2a4c8739db36cb7bf"
      }
     },
     "9c6bd970db06481289c34c88fdd2ae31": {
      "model_module": "jupyter-js-widgets",
      "model_module_version": "~2.1.4",
      "model_name": "VBoxModel",
      "state": {
       "_dom_classes": [
        "widget-interact"
       ],
       "_model_module_version": "~2.1.4",
       "_view_module_version": "~2.1.4",
       "children": [
        "IPY_MODEL_6442fe5d28684dac98304c03a7af16d9",
        "IPY_MODEL_724a03bd587749c5bb81cae31c7cff0c"
       ],
       "layout": "IPY_MODEL_88b5a1994dc14cc99e31fba6ac082bdc"
      }
     },
     "9c70437402ee485798b6a6aba9f79260": {
      "model_module": "jupyter-js-widgets",
      "model_module_version": "~2.1.4",
      "model_name": "DropdownModel",
      "state": {
       "_model_module_version": "~2.1.4",
       "_options_labels": [
        "1",
        "2",
        "3",
        "4",
        "5",
        "6",
        "7",
        "8",
        "9",
        "10",
        "11",
        "12",
        "13",
        "14",
        "15",
        "16",
        "17",
        "18",
        "19",
        "20",
        "21",
        "22",
        "23",
        "24",
        "25",
        "26",
        "27",
        "28",
        "29",
        "30",
        "31",
        "32",
        "33",
        "34",
        "35",
        "36",
        "37",
        "38",
        "39",
        "40",
        "41",
        "42",
        "43",
        "44",
        "45",
        "46",
        "47",
        "48",
        "49",
        "50",
        "51",
        "52",
        "53",
        "54",
        "55",
        "56",
        "57",
        "58",
        "59",
        "60",
        "61",
        "62",
        "63",
        "64",
        "65",
        "66",
        "67",
        "68",
        "69",
        "70",
        "71",
        "72",
        "73",
        "74",
        "75",
        "76",
        "77",
        "78",
        "79",
        "80",
        "81",
        "82",
        "83",
        "84",
        "85",
        "86",
        "87",
        "88",
        "89",
        "90",
        "91",
        "92",
        "93",
        "94",
        "95",
        "96",
        "97",
        "98",
        "99",
        "100",
        "110",
        "120",
        "130",
        "140",
        "150",
        "160",
        "170",
        "180",
        "190",
        "200",
        "300",
        "400",
        "500",
        "600",
        "700",
        "800",
        "900"
       ],
       "_view_module_version": "~2.1.4",
       "description": "num_coins",
       "layout": "IPY_MODEL_b2677f9606304fc9a76c1eb89ecbc8cd",
       "value": "900"
      }
     },
     "9cabee4c6b20447d85cb46f6d668dd5c": {
      "model_module": "jupyter-js-widgets",
      "model_module_version": "~2.1.4",
      "model_name": "OutputModel",
      "state": {
       "_dom_classes": [],
       "_model_module": "jupyter-js-widgets",
       "_model_module_version": "~2.1.4",
       "_view_module": "jupyter-js-widgets",
       "_view_module_version": "~2.1.4",
       "layout": "IPY_MODEL_64a72a9cf69643bc9b400ad9e15d12f0",
       "msg_throttle": 1
      }
     },
     "9d402ef0cb6d4d44b6ef6b63a9505c28": {
      "model_module": "jupyter-js-widgets",
      "model_module_version": "~2.1.4",
      "model_name": "LayoutModel",
      "state": {
       "_model_module_version": "~2.1.4",
       "_view_module_version": "~2.1.4"
      }
     },
     "9de32ec55cb340d58736e4cb8a628cc2": {
      "model_module": "jupyter-js-widgets",
      "model_module_version": "~2.1.4",
      "model_name": "VBoxModel",
      "state": {
       "_dom_classes": [
        "widget-interact"
       ],
       "_model_module_version": "~2.1.4",
       "_view_module_version": "~2.1.4",
       "children": [
        "IPY_MODEL_fba7e0dc22824ed59bcdbcd907f0ac44",
        "IPY_MODEL_e5dbf2b7fb46439fa76254a9f2c84e7a"
       ],
       "layout": "IPY_MODEL_38f133b9cea94c22beadcbfc76406329"
      }
     },
     "9dfeb8b2185d4dda9d584c4d5891d08a": {
      "model_module": "jupyter-js-widgets",
      "model_module_version": "~2.1.4",
      "model_name": "SliderStyleModel",
      "state": {
       "_model_module_version": "~2.1.4",
       "_view_module_version": "~2.1.4"
      }
     },
     "9e2fb8d01a874a1cad47f10a3fa65221": {
      "model_module": "jupyter-js-widgets",
      "model_module_version": "~2.1.4",
      "model_name": "OutputModel",
      "state": {
       "_dom_classes": [],
       "_model_module": "jupyter-js-widgets",
       "_model_module_version": "~2.1.4",
       "_view_module": "jupyter-js-widgets",
       "_view_module_version": "~2.1.4",
       "layout": "IPY_MODEL_8b58214cf4ce4e5cb3095d6dbcbdabd1",
       "msg_throttle": 1
      }
     },
     "9e9820ece87c4984a838eff4c8ed0556": {
      "model_module": "jupyter-js-widgets",
      "model_module_version": "~2.1.4",
      "model_name": "LayoutModel",
      "state": {
       "_model_module_version": "~2.1.4",
       "_view_module_version": "~2.1.4"
      }
     },
     "9fc2a767580447f2beb622ecffc3b3ff": {
      "model_module": "jupyter-js-widgets",
      "model_module_version": "~2.1.4",
      "model_name": "IntSliderModel",
      "state": {
       "_model_module_version": "~2.1.4",
       "_view_module_version": "~2.1.4",
       "description": "num_coins",
       "layout": "IPY_MODEL_3cad42cb21fb48edbc676663d488486b",
       "style": "IPY_MODEL_2b65f7f321be4d3d8b8678ee3db493a7",
       "value": 5
      }
     },
     "a085486f38674230947a80edc1b64955": {
      "model_module": "jupyter-js-widgets",
      "model_module_version": "~2.1.4",
      "model_name": "VBoxModel",
      "state": {
       "_dom_classes": [
        "widget-interact"
       ],
       "_model_module_version": "~2.1.4",
       "_view_module_version": "~2.1.4",
       "children": [
        "IPY_MODEL_2e97a16ac09f4a89b90046466baf1008",
        "IPY_MODEL_c86b1899d51f4b9682623fdf40aac608"
       ],
       "layout": "IPY_MODEL_b320af44c2b44950b7666f5aad2b16d7"
      }
     },
     "a1f6f560f3f6432ea2e3224124ad3505": {
      "model_module": "jupyter-js-widgets",
      "model_module_version": "~2.1.4",
      "model_name": "SliderStyleModel",
      "state": {
       "_model_module_version": "~2.1.4",
       "_view_module_version": "~2.1.4"
      }
     },
     "a2b531e09db74d6fa15a07036f9c067d": {
      "model_module": "jupyter-js-widgets",
      "model_module_version": "~2.1.4",
      "model_name": "LayoutModel",
      "state": {
       "_model_module_version": "~2.1.4",
       "_view_module_version": "~2.1.4"
      }
     },
     "a2e9b948a788415a91904c086739949d": {
      "model_module": "jupyter-js-widgets",
      "model_module_version": "~2.1.4",
      "model_name": "SliderStyleModel",
      "state": {
       "_model_module_version": "~2.1.4",
       "_view_module_version": "~2.1.4"
      }
     },
     "a3ff2a51a8bd484e8d31e99f9f4bd859": {
      "model_module": "jupyter-js-widgets",
      "model_module_version": "~2.1.4",
      "model_name": "LayoutModel",
      "state": {
       "_model_module_version": "~2.1.4",
       "_view_module_version": "~2.1.4"
      }
     },
     "a4a2f719d87c40c5898dfb6f061bb1ea": {
      "model_module": "jupyter-js-widgets",
      "model_module_version": "~2.1.4",
      "model_name": "IntSliderModel",
      "state": {
       "_model_module_version": "~2.1.4",
       "_view_module_version": "~2.1.4",
       "description": "num_coins",
       "layout": "IPY_MODEL_2dcc824ba982465da7112c614d3ba558",
       "style": "IPY_MODEL_4bc8506cc7944ffb9f8cbcdc03fe41dd",
       "value": 8
      }
     },
     "a5057145c52648d2adb712b71943f81d": {
      "model_module": "jupyter-js-widgets",
      "model_module_version": "~2.1.4",
      "model_name": "LayoutModel",
      "state": {
       "_model_module_version": "~2.1.4",
       "_view_module_version": "~2.1.4"
      }
     },
     "a5f66a954837413ebfbfd3f9c4df2b7c": {
      "model_module": "jupyter-js-widgets",
      "model_module_version": "~2.1.4",
      "model_name": "VBoxModel",
      "state": {
       "_dom_classes": [
        "widget-interact"
       ],
       "_model_module_version": "~2.1.4",
       "_view_module_version": "~2.1.4",
       "children": [
        "IPY_MODEL_c108ba588ea641b99d0e02efe79b1bb9",
        "IPY_MODEL_714d8d6e924f4009ab99679f36a0cf2b"
       ],
       "layout": "IPY_MODEL_68a74d8ae26944798a8fa36d62e0fc67"
      }
     },
     "a643aa4f75634831927afa25cb8a74c9": {
      "model_module": "jupyter-js-widgets",
      "model_module_version": "~2.1.4",
      "model_name": "LayoutModel",
      "state": {
       "_model_module_version": "~2.1.4",
       "_view_module_version": "~2.1.4"
      }
     },
     "a6c584a4f8864772b4232abdc2a85474": {
      "model_module": "jupyter-js-widgets",
      "model_module_version": "~2.1.4",
      "model_name": "IntSliderModel",
      "state": {
       "_model_module_version": "~2.1.4",
       "_view_module_version": "~2.1.4",
       "description": "num_coins",
       "layout": "IPY_MODEL_119938c8091b44a7acfc15900a1fd3ea",
       "max": 10,
       "min": 1,
       "style": "IPY_MODEL_0193dcb5c4e741dea1e6d4d0f9326b5f",
       "value": 4
      }
     },
     "a7cbf87d70b44deb9f72411988927c7b": {
      "model_module": "jupyter-js-widgets",
      "model_module_version": "~2.1.4",
      "model_name": "LayoutModel",
      "state": {
       "_model_module_version": "~2.1.4",
       "_view_module_version": "~2.1.4"
      }
     },
     "a7eabd30291447b199bd55adeaefa3ac": {
      "model_module": "jupyter-js-widgets",
      "model_module_version": "~2.1.4",
      "model_name": "SliderStyleModel",
      "state": {
       "_model_module_version": "~2.1.4",
       "_view_module_version": "~2.1.4"
      }
     },
     "a867e4f69b484aa89282212e788c235e": {
      "model_module": "jupyter-js-widgets",
      "model_module_version": "~2.1.4",
      "model_name": "VBoxModel",
      "state": {
       "_dom_classes": [
        "widget-interact"
       ],
       "_model_module_version": "~2.1.4",
       "_view_module_version": "~2.1.4",
       "children": [
        "IPY_MODEL_91477d2a610a4761bace6b0cfd3bf1e3",
        "IPY_MODEL_c223c08974f84b968f38794afb0cc2dd"
       ],
       "layout": "IPY_MODEL_0e699a8030c142adaf33c48ee23bb1b3"
      }
     },
     "a87f518342444cacab22de062c0317ed": {
      "model_module": "jupyter-js-widgets",
      "model_module_version": "~2.1.4",
      "model_name": "OutputModel",
      "state": {
       "_dom_classes": [],
       "_model_module": "jupyter-js-widgets",
       "_model_module_version": "~2.1.4",
       "_view_module": "jupyter-js-widgets",
       "_view_module_version": "~2.1.4",
       "layout": "IPY_MODEL_b49c552275064062a666404201c64daf",
       "msg_throttle": 1
      }
     },
     "a94ff55218a84f25b7bdeecf7e2f1cb3": {
      "model_module": "jupyter-js-widgets",
      "model_module_version": "~2.1.4",
      "model_name": "LayoutModel",
      "state": {
       "_model_module_version": "~2.1.4",
       "_view_module_version": "~2.1.4"
      }
     },
     "aa47036ba75e422bab48a1d17b1fa6d4": {
      "model_module": "jupyter-js-widgets",
      "model_module_version": "~2.1.4",
      "model_name": "OutputModel",
      "state": {
       "_dom_classes": [],
       "_model_module": "jupyter-js-widgets",
       "_model_module_version": "~2.1.4",
       "_view_module": "jupyter-js-widgets",
       "_view_module_version": "~2.1.4",
       "layout": "IPY_MODEL_d39bfcf284f84c62864ce78374c2e520",
       "msg_throttle": 1
      }
     },
     "aa6632d7d0734a08a5b132181bfe9bc2": {
      "model_module": "jupyter-js-widgets",
      "model_module_version": "~2.1.4",
      "model_name": "LayoutModel",
      "state": {
       "_model_module_version": "~2.1.4",
       "_view_module_version": "~2.1.4"
      }
     },
     "aa67c950cf664bf992e9fbdbfd727753": {
      "model_module": "jupyter-js-widgets",
      "model_module_version": "~2.1.4",
      "model_name": "LayoutModel",
      "state": {
       "_model_module_version": "~2.1.4",
       "_view_module_version": "~2.1.4"
      }
     },
     "abb2806bdc1e4127965b57c4ed0bba09": {
      "model_module": "jupyter-js-widgets",
      "model_module_version": "~2.1.4",
      "model_name": "LayoutModel",
      "state": {
       "_model_module_version": "~2.1.4",
       "_view_module_version": "~2.1.4"
      }
     },
     "adfbd8843161469eb5307dcf32abb7d7": {
      "model_module": "jupyter-js-widgets",
      "model_module_version": "~2.1.4",
      "model_name": "LayoutModel",
      "state": {
       "_model_module_version": "~2.1.4",
       "_view_module_version": "~2.1.4"
      }
     },
     "b1e535da4be84775bb2a1221233c22e0": {
      "model_module": "jupyter-js-widgets",
      "model_module_version": "~2.1.4",
      "model_name": "LayoutModel",
      "state": {
       "_model_module_version": "~2.1.4",
       "_view_module_version": "~2.1.4"
      }
     },
     "b2677f9606304fc9a76c1eb89ecbc8cd": {
      "model_module": "jupyter-js-widgets",
      "model_module_version": "~2.1.4",
      "model_name": "LayoutModel",
      "state": {
       "_model_module_version": "~2.1.4",
       "_view_module_version": "~2.1.4"
      }
     },
     "b296a1a660b24f9d952d651d21295b67": {
      "model_module": "jupyter-js-widgets",
      "model_module_version": "~2.1.4",
      "model_name": "VBoxModel",
      "state": {
       "_dom_classes": [
        "widget-interact"
       ],
       "_model_module_version": "~2.1.4",
       "_view_module_version": "~2.1.4",
       "children": [
        "IPY_MODEL_190ed23ea9dc4faf992a9fd30cd83396",
        "IPY_MODEL_0273a415edf747aead5293f70376cb41"
       ],
       "layout": "IPY_MODEL_53fbbe99afd7485ea3e454cd4c0afa0f"
      }
     },
     "b320af44c2b44950b7666f5aad2b16d7": {
      "model_module": "jupyter-js-widgets",
      "model_module_version": "~2.1.4",
      "model_name": "LayoutModel",
      "state": {
       "_model_module_version": "~2.1.4",
       "_view_module_version": "~2.1.4"
      }
     },
     "b49c552275064062a666404201c64daf": {
      "model_module": "jupyter-js-widgets",
      "model_module_version": "~2.1.4",
      "model_name": "LayoutModel",
      "state": {
       "_model_module_version": "~2.1.4",
       "_view_module_version": "~2.1.4"
      }
     },
     "b6a16ed4ee63474e8ec70ab82775fe8f": {
      "model_module": "jupyter-js-widgets",
      "model_module_version": "~2.1.4",
      "model_name": "SliderStyleModel",
      "state": {
       "_model_module_version": "~2.1.4",
       "_view_module_version": "~2.1.4"
      }
     },
     "b6d4f29644b043079b7f4a047219b9ba": {
      "model_module": "jupyter-js-widgets",
      "model_module_version": "~2.1.4",
      "model_name": "OutputModel",
      "state": {
       "_dom_classes": [],
       "_model_module": "jupyter-js-widgets",
       "_model_module_version": "~2.1.4",
       "_view_module": "jupyter-js-widgets",
       "_view_module_version": "~2.1.4",
       "layout": "IPY_MODEL_ddd413515c0149ba9447fed4aee54006",
       "msg_throttle": 1
      }
     },
     "b831285ebaff43c4a1eca719f92b4af4": {
      "model_module": "jupyter-js-widgets",
      "model_module_version": "~2.1.4",
      "model_name": "LayoutModel",
      "state": {
       "_model_module_version": "~2.1.4",
       "_view_module_version": "~2.1.4"
      }
     },
     "b86694fda1f04d7586b2fd7827a81681": {
      "model_module": "jupyter-js-widgets",
      "model_module_version": "~2.1.4",
      "model_name": "SliderStyleModel",
      "state": {
       "_model_module_version": "~2.1.4",
       "_view_module_version": "~2.1.4"
      }
     },
     "b89bc5cf51034cadacde0b4b0dcf0587": {
      "model_module": "jupyter-js-widgets",
      "model_module_version": "~2.1.4",
      "model_name": "LayoutModel",
      "state": {
       "_model_module_version": "~2.1.4",
       "_view_module_version": "~2.1.4"
      }
     },
     "bb4d4d48f77b464bb5b526163b52ab41": {
      "model_module": "jupyter-js-widgets",
      "model_module_version": "~2.1.4",
      "model_name": "LayoutModel",
      "state": {
       "_model_module_version": "~2.1.4",
       "_view_module_version": "~2.1.4"
      }
     },
     "bb604476ac304b94a010485f3fdaf3e6": {
      "model_module": "jupyter-js-widgets",
      "model_module_version": "~2.1.4",
      "model_name": "VBoxModel",
      "state": {
       "_dom_classes": [
        "widget-interact"
       ],
       "_model_module_version": "~2.1.4",
       "_view_module_version": "~2.1.4",
       "children": [
        "IPY_MODEL_7e2933b1c61a4b13bcfc69c25cd2a94d",
        "IPY_MODEL_6a269f53f1344fdd894f5065afd96718"
       ],
       "layout": "IPY_MODEL_aa6632d7d0734a08a5b132181bfe9bc2"
      }
     },
     "bb65dd44ad3c419aba37a29886f2a72c": {
      "model_module": "jupyter-js-widgets",
      "model_module_version": "~2.1.4",
      "model_name": "LayoutModel",
      "state": {
       "_model_module_version": "~2.1.4",
       "_view_module_version": "~2.1.4"
      }
     },
     "bb9747b0164c43d2ae9edc9870fbf7be": {
      "model_module": "jupyter-js-widgets",
      "model_module_version": "~2.1.4",
      "model_name": "VBoxModel",
      "state": {
       "_dom_classes": [
        "widget-interact"
       ],
       "_model_module_version": "~2.1.4",
       "_view_module_version": "~2.1.4",
       "children": [
        "IPY_MODEL_15fd6a23ca4e41c28763e9dc7db5ad8e",
        "IPY_MODEL_9cabee4c6b20447d85cb46f6d668dd5c"
       ],
       "layout": "IPY_MODEL_86078e894e29455e8d4b00d6d9f9d4a2"
      }
     },
     "bcc6a505f07e48508d022bee1c56af70": {
      "model_module": "jupyter-js-widgets",
      "model_module_version": "~2.1.4",
      "model_name": "IntSliderModel",
      "state": {
       "_model_module_version": "~2.1.4",
       "_view_module_version": "~2.1.4",
       "description": "num_coins",
       "layout": "IPY_MODEL_23fdb87908f84b158b7b026820127842",
       "style": "IPY_MODEL_b86694fda1f04d7586b2fd7827a81681",
       "value": 6
      }
     },
     "bd25bfcb05f94b6eab4070a71d84cb46": {
      "model_module": "jupyter-js-widgets",
      "model_module_version": "~2.1.4",
      "model_name": "LayoutModel",
      "state": {
       "_model_module_version": "~2.1.4",
       "_view_module_version": "~2.1.4"
      }
     },
     "bdd6497bbb1f48aa8c22555a8cecdced": {
      "model_module": "jupyter-js-widgets",
      "model_module_version": "~2.1.4",
      "model_name": "SliderStyleModel",
      "state": {
       "_model_module_version": "~2.1.4",
       "_view_module_version": "~2.1.4"
      }
     },
     "bdfad2bcc8e24b819c28f8ef98fc7c8a": {
      "model_module": "jupyter-js-widgets",
      "model_module_version": "~2.1.4",
      "model_name": "VBoxModel",
      "state": {
       "_dom_classes": [
        "widget-interact"
       ],
       "_model_module_version": "~2.1.4",
       "_view_module_version": "~2.1.4",
       "children": [
        "IPY_MODEL_434d0fb4d7c24efa976b134e67aea8ce",
        "IPY_MODEL_b6d4f29644b043079b7f4a047219b9ba"
       ],
       "layout": "IPY_MODEL_adfbd8843161469eb5307dcf32abb7d7"
      }
     },
     "bf65e3df720042fc993d4abe8929f41b": {
      "model_module": "jupyter-js-widgets",
      "model_module_version": "~2.1.4",
      "model_name": "IntSliderModel",
      "state": {
       "_model_module_version": "~2.1.4",
       "_view_module_version": "~2.1.4",
       "description": "num_coins",
       "layout": "IPY_MODEL_fa39862dcb464cc18acd55a6dcd90795",
       "style": "IPY_MODEL_c9b4ad21c10d40abb6abbeb4bd170934",
       "value": 4
      }
     },
     "bfd250fb2c2a4a86a0195dc712afcd0b": {
      "model_module": "jupyter-js-widgets",
      "model_module_version": "~2.1.4",
      "model_name": "LayoutModel",
      "state": {
       "_model_module_version": "~2.1.4",
       "_view_module_version": "~2.1.4"
      }
     },
     "c030b1285aa6446685398b3b42eeeac0": {
      "model_module": "jupyter-js-widgets",
      "model_module_version": "~2.1.4",
      "model_name": "OutputModel",
      "state": {
       "_dom_classes": [],
       "_model_module": "jupyter-js-widgets",
       "_model_module_version": "~2.1.4",
       "_view_module": "jupyter-js-widgets",
       "_view_module_version": "~2.1.4",
       "layout": "IPY_MODEL_cdbf76e000c944d5982b8528cebeda27",
       "msg_throttle": 1
      }
     },
     "c0896c0c072f4ee388c108702466e237": {
      "model_module": "jupyter-js-widgets",
      "model_module_version": "~2.1.4",
      "model_name": "IntSliderModel",
      "state": {
       "_model_module_version": "~2.1.4",
       "_view_module_version": "~2.1.4",
       "description": "num_coins",
       "layout": "IPY_MODEL_29a6befe2ab84a578584030ae7eec840",
       "style": "IPY_MODEL_136956a2a5414af1aab429bf004771bd",
       "value": 23
      }
     },
     "c0e58798190744df8983d9fbc976db59": {
      "model_module": "jupyter-js-widgets",
      "model_module_version": "~2.1.4",
      "model_name": "SliderStyleModel",
      "state": {
       "_model_module_version": "~2.1.4",
       "_view_module_version": "~2.1.4"
      }
     },
     "c108ba588ea641b99d0e02efe79b1bb9": {
      "model_module": "jupyter-js-widgets",
      "model_module_version": "~2.1.4",
      "model_name": "IntSliderModel",
      "state": {
       "_model_module_version": "~2.1.4",
       "_view_module_version": "~2.1.4",
       "description": "num_coins",
       "layout": "IPY_MODEL_a2b531e09db74d6fa15a07036f9c067d",
       "style": "IPY_MODEL_7236ec746e40421a80178f0877019fd5",
       "value": 50
      }
     },
     "c158c0c18e44490e99bfddf7ca51a03d": {
      "model_module": "jupyter-js-widgets",
      "model_module_version": "~2.1.4",
      "model_name": "LayoutModel",
      "state": {
       "_model_module_version": "~2.1.4",
       "_view_module_version": "~2.1.4"
      }
     },
     "c1e146dfd9134abfaf2bdeb53c172bca": {
      "model_module": "jupyter-js-widgets",
      "model_module_version": "~2.1.4",
      "model_name": "LayoutModel",
      "state": {
       "_model_module_version": "~2.1.4",
       "_view_module_version": "~2.1.4"
      }
     },
     "c223c08974f84b968f38794afb0cc2dd": {
      "model_module": "jupyter-js-widgets",
      "model_module_version": "~2.1.4",
      "model_name": "OutputModel",
      "state": {
       "_dom_classes": [],
       "_model_module": "jupyter-js-widgets",
       "_model_module_version": "~2.1.4",
       "_view_module": "jupyter-js-widgets",
       "_view_module_version": "~2.1.4",
       "layout": "IPY_MODEL_981b4cef33d041b0b9be6c497d40b2d2",
       "msg_throttle": 1
      }
     },
     "c22609d13a5840dba876840873416434": {
      "model_module": "jupyter-js-widgets",
      "model_module_version": "~2.1.4",
      "model_name": "OutputModel",
      "state": {
       "_dom_classes": [],
       "_model_module": "jupyter-js-widgets",
       "_model_module_version": "~2.1.4",
       "_view_module": "jupyter-js-widgets",
       "_view_module_version": "~2.1.4",
       "layout": "IPY_MODEL_226559618573411992336534bd07c262",
       "msg_throttle": 1
      }
     },
     "c23be51062eb4f749312f53c7743aa89": {
      "model_module": "jupyter-js-widgets",
      "model_module_version": "~2.1.4",
      "model_name": "LayoutModel",
      "state": {
       "_model_module_version": "~2.1.4",
       "_view_module_version": "~2.1.4"
      }
     },
     "c63723e5c0b5419298c3344b5026055a": {
      "model_module": "jupyter-js-widgets",
      "model_module_version": "~2.1.4",
      "model_name": "LayoutModel",
      "state": {
       "_model_module_version": "~2.1.4",
       "_view_module_version": "~2.1.4"
      }
     },
     "c7b7d0423f104273bededed91544ff2d": {
      "model_module": "jupyter-js-widgets",
      "model_module_version": "~2.1.4",
      "model_name": "OutputModel",
      "state": {
       "_dom_classes": [],
       "_model_module": "jupyter-js-widgets",
       "_model_module_version": "~2.1.4",
       "_view_module": "jupyter-js-widgets",
       "_view_module_version": "~2.1.4",
       "layout": "IPY_MODEL_4b30f5d13053475d8d2781cf5a88d6d1",
       "msg_throttle": 1
      }
     },
     "c86b1899d51f4b9682623fdf40aac608": {
      "model_module": "jupyter-js-widgets",
      "model_module_version": "~2.1.4",
      "model_name": "OutputModel",
      "state": {
       "_dom_classes": [],
       "_model_module": "jupyter-js-widgets",
       "_model_module_version": "~2.1.4",
       "_view_module": "jupyter-js-widgets",
       "_view_module_version": "~2.1.4",
       "layout": "IPY_MODEL_c946c49090af468a91291c608b756718",
       "msg_throttle": 1
      }
     },
     "c946c49090af468a91291c608b756718": {
      "model_module": "jupyter-js-widgets",
      "model_module_version": "~2.1.4",
      "model_name": "LayoutModel",
      "state": {
       "_model_module_version": "~2.1.4",
       "_view_module_version": "~2.1.4"
      }
     },
     "c9b4ad21c10d40abb6abbeb4bd170934": {
      "model_module": "jupyter-js-widgets",
      "model_module_version": "~2.1.4",
      "model_name": "SliderStyleModel",
      "state": {
       "_model_module_version": "~2.1.4",
       "_view_module_version": "~2.1.4"
      }
     },
     "cb18ec6105c74195b1258cc503515cac": {
      "model_module": "jupyter-js-widgets",
      "model_module_version": "~2.1.4",
      "model_name": "SliderStyleModel",
      "state": {
       "_model_module_version": "~2.1.4",
       "_view_module_version": "~2.1.4"
      }
     },
     "cbe7f2eef6834c53bbe59a83ca3748c0": {
      "model_module": "jupyter-js-widgets",
      "model_module_version": "~2.1.4",
      "model_name": "OutputModel",
      "state": {
       "_dom_classes": [],
       "_model_module": "jupyter-js-widgets",
       "_model_module_version": "~2.1.4",
       "_view_module": "jupyter-js-widgets",
       "_view_module_version": "~2.1.4",
       "layout": "IPY_MODEL_7d94a28fb83b41b8816783e09520961e",
       "msg_throttle": 1
      }
     },
     "cca71fd8111a41fc82fe7e73c72876ef": {
      "model_module": "jupyter-js-widgets",
      "model_module_version": "~2.1.4",
      "model_name": "OutputModel",
      "state": {
       "_dom_classes": [],
       "_model_module": "jupyter-js-widgets",
       "_model_module_version": "~2.1.4",
       "_view_module": "jupyter-js-widgets",
       "_view_module_version": "~2.1.4",
       "layout": "IPY_MODEL_902bb36c8b4444d18e50c506f8428f23",
       "msg_throttle": 1
      }
     },
     "cdbf76e000c944d5982b8528cebeda27": {
      "model_module": "jupyter-js-widgets",
      "model_module_version": "~2.1.4",
      "model_name": "LayoutModel",
      "state": {
       "_model_module_version": "~2.1.4",
       "_view_module_version": "~2.1.4"
      }
     },
     "ce03a4ea2abb4b078715bf226ecb8505": {
      "model_module": "jupyter-js-widgets",
      "model_module_version": "~2.1.4",
      "model_name": "LayoutModel",
      "state": {
       "_model_module_version": "~2.1.4",
       "_view_module_version": "~2.1.4"
      }
     },
     "d011d3f5193f4325b0913288b71a55c8": {
      "model_module": "jupyter-js-widgets",
      "model_module_version": "~2.1.4",
      "model_name": "OutputModel",
      "state": {
       "_dom_classes": [],
       "_model_module": "jupyter-js-widgets",
       "_model_module_version": "~2.1.4",
       "_view_module": "jupyter-js-widgets",
       "_view_module_version": "~2.1.4",
       "layout": "IPY_MODEL_53e2afc52d39414b9abad13dfd1d1aa2",
       "msg_throttle": 1
      }
     },
     "d10e9555da46493bbf4ba2c896bf8b4c": {
      "model_module": "jupyter-js-widgets",
      "model_module_version": "~2.1.4",
      "model_name": "LayoutModel",
      "state": {
       "_model_module_version": "~2.1.4",
       "_view_module_version": "~2.1.4"
      }
     },
     "d24ed5af19404621ab537e8916d55c91": {
      "model_module": "jupyter-js-widgets",
      "model_module_version": "~2.1.4",
      "model_name": "LayoutModel",
      "state": {
       "_model_module_version": "~2.1.4",
       "_view_module_version": "~2.1.4"
      }
     },
     "d33b9916d86b411e922943a2cc4739cc": {
      "model_module": "jupyter-js-widgets",
      "model_module_version": "~2.1.4",
      "model_name": "LayoutModel",
      "state": {
       "_model_module_version": "~2.1.4",
       "_view_module_version": "~2.1.4"
      }
     },
     "d39bfcf284f84c62864ce78374c2e520": {
      "model_module": "jupyter-js-widgets",
      "model_module_version": "~2.1.4",
      "model_name": "LayoutModel",
      "state": {
       "_model_module_version": "~2.1.4",
       "_view_module_version": "~2.1.4"
      }
     },
     "d493a3d1207f48fbb214b263008b5a10": {
      "model_module": "jupyter-js-widgets",
      "model_module_version": "~2.1.4",
      "model_name": "IntSliderModel",
      "state": {
       "_model_module_version": "~2.1.4",
       "_view_module_version": "~2.1.4",
       "description": "num_coins",
       "layout": "IPY_MODEL_1a4891c403c64ff1b800ff6e3eead325",
       "style": "IPY_MODEL_a2e9b948a788415a91904c086739949d",
       "value": 4
      }
     },
     "d62dd8668ba4408bb9aa1c1ab39f0c38": {
      "model_module": "jupyter-js-widgets",
      "model_module_version": "~2.1.4",
      "model_name": "VBoxModel",
      "state": {
       "_dom_classes": [
        "widget-interact"
       ],
       "_model_module_version": "~2.1.4",
       "_view_module_version": "~2.1.4",
       "children": [
        "IPY_MODEL_6f17bec589704c099deb5fabd536ee4d",
        "IPY_MODEL_d011d3f5193f4325b0913288b71a55c8"
       ],
       "layout": "IPY_MODEL_d10e9555da46493bbf4ba2c896bf8b4c"
      }
     },
     "d63c365fa7cb414b92aaaa15c247b474": {
      "model_module": "jupyter-js-widgets",
      "model_module_version": "~2.1.4",
      "model_name": "LayoutModel",
      "state": {
       "_model_module_version": "~2.1.4",
       "_view_module_version": "~2.1.4"
      }
     },
     "d6dc9c29d6594b818b2e02996b6da459": {
      "model_module": "jupyter-js-widgets",
      "model_module_version": "~2.1.4",
      "model_name": "VBoxModel",
      "state": {
       "_dom_classes": [
        "widget-interact"
       ],
       "_model_module_version": "~2.1.4",
       "_view_module_version": "~2.1.4",
       "children": [
        "IPY_MODEL_c0896c0c072f4ee388c108702466e237",
        "IPY_MODEL_c030b1285aa6446685398b3b42eeeac0"
       ],
       "layout": "IPY_MODEL_3e4b90d1462641e39c86078234b0696d"
      }
     },
     "d73aea5ee660466d9594108a1b25d612": {
      "model_module": "jupyter-js-widgets",
      "model_module_version": "~2.1.4",
      "model_name": "LayoutModel",
      "state": {
       "_model_module_version": "~2.1.4",
       "_view_module_version": "~2.1.4"
      }
     },
     "d86610f104704f9085d594c358c12ca7": {
      "model_module": "jupyter-js-widgets",
      "model_module_version": "~2.1.4",
      "model_name": "VBoxModel",
      "state": {
       "_dom_classes": [
        "widget-interact"
       ],
       "_model_module_version": "~2.1.4",
       "_view_module_version": "~2.1.4",
       "children": [
        "IPY_MODEL_a6c584a4f8864772b4232abdc2a85474",
        "IPY_MODEL_aa47036ba75e422bab48a1d17b1fa6d4"
       ],
       "layout": "IPY_MODEL_30c141ef3b9e494d8671517e60a487f9"
      }
     },
     "d97e1b6d8c944761bca02310822d9ddd": {
      "model_module": "jupyter-js-widgets",
      "model_module_version": "~2.1.4",
      "model_name": "IntSliderModel",
      "state": {
       "_model_module_version": "~2.1.4",
       "_view_module_version": "~2.1.4",
       "description": "num_coins",
       "layout": "IPY_MODEL_92bfde0a694747218d35e3b000a958c8",
       "style": "IPY_MODEL_4def469916f648b6943ff8d65a8a588b",
       "value": 4
      }
     },
     "da7eb5630730477889f3bf5c65f57920": {
      "model_module": "jupyter-js-widgets",
      "model_module_version": "~2.1.4",
      "model_name": "LayoutModel",
      "state": {
       "_model_module_version": "~2.1.4",
       "_view_module_version": "~2.1.4"
      }
     },
     "db7f9cbfcf0041e0801301660af5651c": {
      "model_module": "jupyter-js-widgets",
      "model_module_version": "~2.1.4",
      "model_name": "LayoutModel",
      "state": {
       "_model_module_version": "~2.1.4",
       "_view_module_version": "~2.1.4"
      }
     },
     "dcd979c77d27473fb9679ef4ff8d12bd": {
      "model_module": "jupyter-js-widgets",
      "model_module_version": "~2.1.4",
      "model_name": "IntSliderModel",
      "state": {
       "_model_module_version": "~2.1.4",
       "_view_module_version": "~2.1.4",
       "description": "num_coins",
       "layout": "IPY_MODEL_c63723e5c0b5419298c3344b5026055a",
       "style": "IPY_MODEL_1e652d426bb242c28fa74277c6b8d875",
       "value": 13
      }
     },
     "dcdf123c3fae41b687ad730088605e59": {
      "model_module": "jupyter-js-widgets",
      "model_module_version": "~2.1.4",
      "model_name": "OutputModel",
      "state": {
       "_dom_classes": [],
       "_model_module": "jupyter-js-widgets",
       "_model_module_version": "~2.1.4",
       "_view_module": "jupyter-js-widgets",
       "_view_module_version": "~2.1.4",
       "layout": "IPY_MODEL_5785aaaca92d48a895e790b241c2df1c",
       "msg_throttle": 1
      }
     },
     "dd43760e38cf4097ac47c81ffee7ae3f": {
      "model_module": "jupyter-js-widgets",
      "model_module_version": "~2.1.4",
      "model_name": "VBoxModel",
      "state": {
       "_dom_classes": [
        "widget-interact"
       ],
       "_model_module_version": "~2.1.4",
       "_view_module_version": "~2.1.4",
       "children": [
        "IPY_MODEL_9c70437402ee485798b6a6aba9f79260",
        "IPY_MODEL_6d11e74b0cfd48b6abfd464ca9fdbe3d"
       ],
       "layout": "IPY_MODEL_8565d5c8cee34934b53dbe3f1c56525d"
      }
     },
     "ddd413515c0149ba9447fed4aee54006": {
      "model_module": "jupyter-js-widgets",
      "model_module_version": "~2.1.4",
      "model_name": "LayoutModel",
      "state": {
       "_model_module_version": "~2.1.4",
       "_view_module_version": "~2.1.4"
      }
     },
     "dfa24ead6b274f4baa627dfe56e00bde": {
      "model_module": "jupyter-js-widgets",
      "model_module_version": "~2.1.4",
      "model_name": "VBoxModel",
      "state": {
       "_dom_classes": [
        "widget-interact"
       ],
       "_model_module_version": "~2.1.4",
       "_view_module_version": "~2.1.4",
       "children": [
        "IPY_MODEL_e523af21e179489ea873e664c610b5fb",
        "IPY_MODEL_8d44dc30ad5649dfa82d7ee39df5c9e3"
       ],
       "layout": "IPY_MODEL_1b551454b7c44f67a7b3c19a74bcbe1f"
      }
     },
     "e02dc1f641f0481f975fbff2ec73a8c8": {
      "model_module": "jupyter-js-widgets",
      "model_module_version": "~2.1.4",
      "model_name": "IntSliderModel",
      "state": {
       "_model_module_version": "~2.1.4",
       "_view_module_version": "~2.1.4",
       "description": "num_coins",
       "layout": "IPY_MODEL_2277110fa20a4baf861fd62b621a194b",
       "style": "IPY_MODEL_9bd02b1542f04e26ab6178d9458f2104",
       "value": 18
      }
     },
     "e11ab55bf4d949799af74d9d904df37f": {
      "model_module": "jupyter-js-widgets",
      "model_module_version": "~2.1.4",
      "model_name": "VBoxModel",
      "state": {
       "_dom_classes": [
        "widget-interact"
       ],
       "_model_module_version": "~2.1.4",
       "_view_module_version": "~2.1.4",
       "children": [
        "IPY_MODEL_d97e1b6d8c944761bca02310822d9ddd",
        "IPY_MODEL_a87f518342444cacab22de062c0317ed"
       ],
       "layout": "IPY_MODEL_58cf043396394a3ab8b36883324405c2"
      }
     },
     "e25650ff60024145a0adf3f9456a839d": {
      "model_module": "jupyter-js-widgets",
      "model_module_version": "~2.1.4",
      "model_name": "LayoutModel",
      "state": {
       "_model_module_version": "~2.1.4",
       "_view_module_version": "~2.1.4"
      }
     },
     "e350567b8a664d3f97089243c9e5320e": {
      "model_module": "jupyter-js-widgets",
      "model_module_version": "~2.1.4",
      "model_name": "OutputModel",
      "state": {
       "_dom_classes": [],
       "_model_module": "jupyter-js-widgets",
       "_model_module_version": "~2.1.4",
       "_view_module": "jupyter-js-widgets",
       "_view_module_version": "~2.1.4",
       "layout": "IPY_MODEL_fe5c7cb7c87244b4879661d82f84d83c",
       "msg_throttle": 1
      }
     },
     "e3af90116d8948a5aabcf1eda6468ae7": {
      "model_module": "jupyter-js-widgets",
      "model_module_version": "~2.1.4",
      "model_name": "IntSliderModel",
      "state": {
       "_model_module_version": "~2.1.4",
       "_view_module_version": "~2.1.4",
       "description": "num_coins",
       "layout": "IPY_MODEL_5c0fcf2eda144ec4b69b45c274e823d9",
       "style": "IPY_MODEL_957ce3f978984677aba2df1044776193",
       "value": 62
      }
     },
     "e42a2b3767e84ce29858dbc5a4b82506": {
      "model_module": "jupyter-js-widgets",
      "model_module_version": "~2.1.4",
      "model_name": "LayoutModel",
      "state": {
       "_model_module_version": "~2.1.4",
       "_view_module_version": "~2.1.4"
      }
     },
     "e45c473023854371a151d74cdacd3b32": {
      "model_module": "jupyter-js-widgets",
      "model_module_version": "~2.1.4",
      "model_name": "LayoutModel",
      "state": {
       "_model_module_version": "~2.1.4",
       "_view_module_version": "~2.1.4"
      }
     },
     "e46b79cab2534b29a145512364f69559": {
      "model_module": "jupyter-js-widgets",
      "model_module_version": "~2.1.4",
      "model_name": "LayoutModel",
      "state": {
       "_model_module_version": "~2.1.4",
       "_view_module_version": "~2.1.4"
      }
     },
     "e47d9c0b1ed5476b846b8d13281271aa": {
      "model_module": "jupyter-js-widgets",
      "model_module_version": "~2.1.4",
      "model_name": "SliderStyleModel",
      "state": {
       "_model_module_version": "~2.1.4",
       "_view_module_version": "~2.1.4"
      }
     },
     "e4cb75568c6946a5aefc345875850b2b": {
      "model_module": "jupyter-js-widgets",
      "model_module_version": "~2.1.4",
      "model_name": "LayoutModel",
      "state": {
       "_model_module_version": "~2.1.4",
       "_view_module_version": "~2.1.4"
      }
     },
     "e523af21e179489ea873e664c610b5fb": {
      "model_module": "jupyter-js-widgets",
      "model_module_version": "~2.1.4",
      "model_name": "IntSliderModel",
      "state": {
       "_model_module_version": "~2.1.4",
       "_view_module_version": "~2.1.4",
       "description": "num_coins",
       "layout": "IPY_MODEL_e45c473023854371a151d74cdacd3b32",
       "style": "IPY_MODEL_5ad58073fbbd4ce98c67ffa3358f5539",
       "value": 4
      }
     },
     "e58aa466fb3a404f836953bfd77ee56f": {
      "model_module": "jupyter-js-widgets",
      "model_module_version": "~2.1.4",
      "model_name": "LayoutModel",
      "state": {
       "_model_module_version": "~2.1.4",
       "_view_module_version": "~2.1.4"
      }
     },
     "e5dbf2b7fb46439fa76254a9f2c84e7a": {
      "model_module": "jupyter-js-widgets",
      "model_module_version": "~2.1.4",
      "model_name": "OutputModel",
      "state": {
       "_dom_classes": [],
       "_model_module": "jupyter-js-widgets",
       "_model_module_version": "~2.1.4",
       "_view_module": "jupyter-js-widgets",
       "_view_module_version": "~2.1.4",
       "layout": "IPY_MODEL_2ee57acfa51247c9ad04d4f33411120d",
       "msg_throttle": 1
      }
     },
     "e8bf9245442641d1ae75bde092664c7b": {
      "model_module": "jupyter-js-widgets",
      "model_module_version": "~2.1.4",
      "model_name": "VBoxModel",
      "state": {
       "_dom_classes": [
        "widget-interact"
       ],
       "_model_module_version": "~2.1.4",
       "_view_module_version": "~2.1.4",
       "children": [
        "IPY_MODEL_863371d7ee9e4ae7937cc730b34fd533",
        "IPY_MODEL_fcfb21a6533e4018a23483ba10afe99a"
       ],
       "layout": "IPY_MODEL_754f0430cdf9470899507f87be97f6d9"
      }
     },
     "e958793716934121adc0438fc5e31d84": {
      "model_module": "jupyter-js-widgets",
      "model_module_version": "~2.1.4",
      "model_name": "VBoxModel",
      "state": {
       "_dom_classes": [
        "widget-interact"
       ],
       "_model_module_version": "~2.1.4",
       "_view_module_version": "~2.1.4",
       "children": [
        "IPY_MODEL_51f1584faf904103b76c21220867d4af",
        "IPY_MODEL_dcdf123c3fae41b687ad730088605e59"
       ],
       "layout": "IPY_MODEL_db7f9cbfcf0041e0801301660af5651c"
      }
     },
     "eb712946bd104be18f2fb01c858794a9": {
      "model_module": "jupyter-js-widgets",
      "model_module_version": "~2.1.4",
      "model_name": "IntSliderModel",
      "state": {
       "_model_module_version": "~2.1.4",
       "_view_module_version": "~2.1.4",
       "description": "num_coins",
       "layout": "IPY_MODEL_a5057145c52648d2adb712b71943f81d",
       "style": "IPY_MODEL_12cc289587374ae3aae58a895d187f71",
       "value": 4
      }
     },
     "ec411d43b63f45cc85373092b9121204": {
      "model_module": "jupyter-js-widgets",
      "model_module_version": "~2.1.4",
      "model_name": "VBoxModel",
      "state": {
       "_dom_classes": [
        "widget-interact"
       ],
       "_model_module_version": "~2.1.4",
       "_view_module_version": "~2.1.4",
       "children": [
        "IPY_MODEL_1a6a47bf3a7044b7b00f5d0094f5c9c3",
        "IPY_MODEL_eee8e42d8c214c45b60e77905b3fcea8"
       ],
       "layout": "IPY_MODEL_e46b79cab2534b29a145512364f69559"
      }
     },
     "ecf10346bab74e3b81843af654d8dca2": {
      "model_module": "jupyter-js-widgets",
      "model_module_version": "~2.1.4",
      "model_name": "OutputModel",
      "state": {
       "_dom_classes": [],
       "_model_module": "jupyter-js-widgets",
       "_model_module_version": "~2.1.4",
       "_view_module": "jupyter-js-widgets",
       "_view_module_version": "~2.1.4",
       "layout": "IPY_MODEL_723ebb037fc84dfeb028b2a0de2e5641",
       "msg_throttle": 1
      }
     },
     "eee8e42d8c214c45b60e77905b3fcea8": {
      "model_module": "jupyter-js-widgets",
      "model_module_version": "~2.1.4",
      "model_name": "OutputModel",
      "state": {
       "_dom_classes": [],
       "_model_module": "jupyter-js-widgets",
       "_model_module_version": "~2.1.4",
       "_view_module": "jupyter-js-widgets",
       "_view_module_version": "~2.1.4",
       "layout": "IPY_MODEL_88a01d7cd95e44c1aac30fff478bae29",
       "msg_throttle": 1
      }
     },
     "eefe9ecbb9cc468a9d248f1814fa262c": {
      "model_module": "jupyter-js-widgets",
      "model_module_version": "~2.1.4",
      "model_name": "VBoxModel",
      "state": {
       "_dom_classes": [
        "widget-interact"
       ],
       "_model_module_version": "~2.1.4",
       "_view_module_version": "~2.1.4",
       "children": [
        "IPY_MODEL_3ffdee385ecd49bda0021c0f5b7f67c2",
        "IPY_MODEL_5d12d41a87314239befff4f38edfc230"
       ],
       "layout": "IPY_MODEL_d73aea5ee660466d9594108a1b25d612"
      }
     },
     "f047ea75133a4507873211eb89e15eca": {
      "model_module": "jupyter-js-widgets",
      "model_module_version": "~2.1.4",
      "model_name": "OutputModel",
      "state": {
       "_dom_classes": [],
       "_model_module": "jupyter-js-widgets",
       "_model_module_version": "~2.1.4",
       "_view_module": "jupyter-js-widgets",
       "_view_module_version": "~2.1.4",
       "layout": "IPY_MODEL_abb2806bdc1e4127965b57c4ed0bba09",
       "msg_throttle": 1
      }
     },
     "f118f023a81d476eb92605f73ace4023": {
      "model_module": "jupyter-js-widgets",
      "model_module_version": "~2.1.4",
      "model_name": "LayoutModel",
      "state": {
       "_model_module_version": "~2.1.4",
       "_view_module_version": "~2.1.4"
      }
     },
     "f33caae99b3444fa87540d43cda22fe9": {
      "model_module": "jupyter-js-widgets",
      "model_module_version": "~2.1.4",
      "model_name": "SliderStyleModel",
      "state": {
       "_model_module_version": "~2.1.4",
       "_view_module_version": "~2.1.4"
      }
     },
     "f3572046e8854ed88db867aa778a5e98": {
      "model_module": "jupyter-js-widgets",
      "model_module_version": "~2.1.4",
      "model_name": "SliderStyleModel",
      "state": {
       "_model_module_version": "~2.1.4",
       "_view_module_version": "~2.1.4"
      }
     },
     "f3dca63b7fd84d72af080507691d8508": {
      "model_module": "jupyter-js-widgets",
      "model_module_version": "~2.1.4",
      "model_name": "OutputModel",
      "state": {
       "_dom_classes": [],
       "_model_module": "jupyter-js-widgets",
       "_model_module_version": "~2.1.4",
       "_view_module": "jupyter-js-widgets",
       "_view_module_version": "~2.1.4",
       "layout": "IPY_MODEL_bfd250fb2c2a4a86a0195dc712afcd0b",
       "msg_throttle": 1
      }
     },
     "f4bda73bd6d34a99a2f943f458a6161b": {
      "model_module": "jupyter-js-widgets",
      "model_module_version": "~2.1.4",
      "model_name": "DropdownModel",
      "state": {
       "_model_module_version": "~2.1.4",
       "_options_labels": [
        "1",
        "2",
        "3",
        "4",
        "5",
        "6",
        "7",
        "8",
        "9",
        "10",
        "11",
        "12",
        "13",
        "14",
        "15",
        "16",
        "17",
        "18",
        "19",
        "20",
        "21",
        "22",
        "23",
        "24",
        "25",
        "26",
        "27",
        "28",
        "29",
        "30",
        "31",
        "32",
        "33",
        "34",
        "35",
        "36",
        "37",
        "38",
        "39",
        "40",
        "41",
        "42",
        "43",
        "44",
        "45",
        "46",
        "47",
        "48",
        "49",
        "50",
        "51",
        "52",
        "53",
        "54",
        "55",
        "56",
        "57",
        "58",
        "59",
        "60",
        "61",
        "62",
        "63",
        "64",
        "65",
        "66",
        "67",
        "68",
        "69",
        "70",
        "71",
        "72",
        "73",
        "74",
        "75",
        "76",
        "77",
        "78",
        "79",
        "80",
        "81",
        "82",
        "83",
        "84",
        "85",
        "86",
        "87",
        "88",
        "89",
        "90",
        "91",
        "92",
        "93",
        "94",
        "95",
        "96",
        "97",
        "98",
        "99",
        "100",
        "110",
        "120",
        "130",
        "140",
        "150",
        "160",
        "170",
        "180",
        "190",
        "200",
        "300",
        "400",
        "500",
        "600",
        "700",
        "800",
        "900",
        "1000"
       ],
       "_view_module_version": "~2.1.4",
       "description": "num_coins",
       "layout": "IPY_MODEL_bb65dd44ad3c419aba37a29886f2a72c",
       "value": "1000"
      }
     },
     "f8ce721de24643e58bb0b2f9d2f1d755": {
      "model_module": "jupyter-js-widgets",
      "model_module_version": "~2.1.4",
      "model_name": "LayoutModel",
      "state": {
       "_model_module_version": "~2.1.4",
       "_view_module_version": "~2.1.4"
      }
     },
     "fa39862dcb464cc18acd55a6dcd90795": {
      "model_module": "jupyter-js-widgets",
      "model_module_version": "~2.1.4",
      "model_name": "LayoutModel",
      "state": {
       "_model_module_version": "~2.1.4",
       "_view_module_version": "~2.1.4"
      }
     },
     "faf7ca9b40484a549c44803bf76c7a76": {
      "model_module": "jupyter-js-widgets",
      "model_module_version": "~2.1.4",
      "model_name": "LayoutModel",
      "state": {
       "_model_module_version": "~2.1.4",
       "_view_module_version": "~2.1.4"
      }
     },
     "fba7e0dc22824ed59bcdbcd907f0ac44": {
      "model_module": "jupyter-js-widgets",
      "model_module_version": "~2.1.4",
      "model_name": "IntSliderModel",
      "state": {
       "_model_module_version": "~2.1.4",
       "_view_module_version": "~2.1.4",
       "description": "num_coins",
       "layout": "IPY_MODEL_50fb9e72895e458091643e7a68f7e361",
       "style": "IPY_MODEL_06fec75f0e6e4b32bafe3591407842f6",
       "value": 4
      }
     },
     "fcfb21a6533e4018a23483ba10afe99a": {
      "model_module": "jupyter-js-widgets",
      "model_module_version": "~2.1.4",
      "model_name": "OutputModel",
      "state": {
       "_dom_classes": [],
       "_model_module": "jupyter-js-widgets",
       "_model_module_version": "~2.1.4",
       "_view_module": "jupyter-js-widgets",
       "_view_module_version": "~2.1.4",
       "layout": "IPY_MODEL_d33b9916d86b411e922943a2cc4739cc",
       "msg_throttle": 1
      }
     },
     "fdb705b14faa4255b91bbbc54bbf25e6": {
      "model_module": "jupyter-js-widgets",
      "model_module_version": "~2.1.4",
      "model_name": "LayoutModel",
      "state": {
       "_model_module_version": "~2.1.4",
       "_view_module_version": "~2.1.4"
      }
     },
     "fe4e3d105be64213b7596f7a2e515b44": {
      "model_module": "jupyter-js-widgets",
      "model_module_version": "~2.1.4",
      "model_name": "OutputModel",
      "state": {
       "_dom_classes": [],
       "_model_module": "jupyter-js-widgets",
       "_model_module_version": "~2.1.4",
       "_view_module": "jupyter-js-widgets",
       "_view_module_version": "~2.1.4",
       "layout": "IPY_MODEL_2fbfb0e93f03438db3be88af11eb22d2",
       "msg_throttle": 1
      }
     },
     "fe5c7cb7c87244b4879661d82f84d83c": {
      "model_module": "jupyter-js-widgets",
      "model_module_version": "~2.1.4",
      "model_name": "LayoutModel",
      "state": {
       "_model_module_version": "~2.1.4",
       "_view_module_version": "~2.1.4"
      }
     },
     "fed2df621b894a4b9d00fd9ca1506993": {
      "model_module": "jupyter-js-widgets",
      "model_module_version": "~2.1.4",
      "model_name": "LayoutModel",
      "state": {
       "_model_module_version": "~2.1.4",
       "_view_module_version": "~2.1.4"
      }
     }
    },
    "version_major": 1,
    "version_minor": 0
   }
  }
 },
 "nbformat": 4,
 "nbformat_minor": 2
}
